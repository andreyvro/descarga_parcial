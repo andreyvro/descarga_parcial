{
 "metadata": {
  "language_info": {
   "codemirror_mode": {
    "name": "ipython",
    "version": 3
   },
   "file_extension": ".py",
   "mimetype": "text/x-python",
   "name": "python",
   "nbconvert_exporter": "python",
   "pygments_lexer": "ipython3",
   "version": "3.8.6-final"
  },
  "orig_nbformat": 2,
  "kernelspec": {
   "name": "python3",
   "display_name": "Python 3.8.6 64-bit",
   "metadata": {
    "interpreter": {
     "hash": "6dfc46ac975ee604bd94d691f908bdbfcb093dd584120a012bab7a2b2e29ee35"
    }
   }
  }
 },
 "nbformat": 4,
 "nbformat_minor": 2,
 "cells": [
  {
   "cell_type": "code",
   "execution_count": 2,
   "metadata": {},
   "outputs": [],
   "source": [
    "import pandas as pd"
   ]
  },
  {
   "cell_type": "code",
   "execution_count": 3,
   "metadata": {},
   "outputs": [],
   "source": [
    "arquivo = '../2_dados/database.csv'"
   ]
  },
  {
   "source": [
    "### Todas as Colunas, poucas linhas"
   ],
   "cell_type": "markdown",
   "metadata": {}
  },
  {
   "cell_type": "code",
   "execution_count": 3,
   "metadata": {},
   "outputs": [],
   "source": [
    "df = pd.read_csv(arquivo, nrows=10)"
   ]
  },
  {
   "cell_type": "code",
   "execution_count": 4,
   "metadata": {},
   "outputs": [
    {
     "output_type": "execute_result",
     "data": {
      "text/plain": [
       "    0   1   2   3   4   5   6   7   8   9  ...  799993  799994  799995  \\\n",
       "0  18  18  17  18  18  18  19  18  18  17  ...      17      18      19   \n",
       "1   1   0  -1   1   0   0   1   0   0   0  ...       0       0       2   \n",
       "2 -19 -19 -20 -19 -19 -20 -18 -19 -20 -19  ...     -18     -19     -18   \n",
       "3 -16 -17 -17 -16 -16 -15 -16 -17 -18 -17  ...     -15     -15     -15   \n",
       "4  -5  -6  -6  -5  -5  -4  -5  -7  -7  -7  ...      -5      -4      -4   \n",
       "\n",
       "   799996  799997  799998  799999  signal_id  phase  target  \n",
       "0      19      17      19      17          0      0       0  \n",
       "1       1       0       1       0          1      1       0  \n",
       "2     -19     -19     -18     -19          2      2       0  \n",
       "3     -15     -15     -14     -14          3      0       1  \n",
       "4      -4      -4      -3      -4          4      1       1  \n",
       "\n",
       "[5 rows x 800003 columns]"
      ],
      "text/html": "<div>\n<style scoped>\n    .dataframe tbody tr th:only-of-type {\n        vertical-align: middle;\n    }\n\n    .dataframe tbody tr th {\n        vertical-align: top;\n    }\n\n    .dataframe thead th {\n        text-align: right;\n    }\n</style>\n<table border=\"1\" class=\"dataframe\">\n  <thead>\n    <tr style=\"text-align: right;\">\n      <th></th>\n      <th>0</th>\n      <th>1</th>\n      <th>2</th>\n      <th>3</th>\n      <th>4</th>\n      <th>5</th>\n      <th>6</th>\n      <th>7</th>\n      <th>8</th>\n      <th>9</th>\n      <th>...</th>\n      <th>799993</th>\n      <th>799994</th>\n      <th>799995</th>\n      <th>799996</th>\n      <th>799997</th>\n      <th>799998</th>\n      <th>799999</th>\n      <th>signal_id</th>\n      <th>phase</th>\n      <th>target</th>\n    </tr>\n  </thead>\n  <tbody>\n    <tr>\n      <th>0</th>\n      <td>18</td>\n      <td>18</td>\n      <td>17</td>\n      <td>18</td>\n      <td>18</td>\n      <td>18</td>\n      <td>19</td>\n      <td>18</td>\n      <td>18</td>\n      <td>17</td>\n      <td>...</td>\n      <td>17</td>\n      <td>18</td>\n      <td>19</td>\n      <td>19</td>\n      <td>17</td>\n      <td>19</td>\n      <td>17</td>\n      <td>0</td>\n      <td>0</td>\n      <td>0</td>\n    </tr>\n    <tr>\n      <th>1</th>\n      <td>1</td>\n      <td>0</td>\n      <td>-1</td>\n      <td>1</td>\n      <td>0</td>\n      <td>0</td>\n      <td>1</td>\n      <td>0</td>\n      <td>0</td>\n      <td>0</td>\n      <td>...</td>\n      <td>0</td>\n      <td>0</td>\n      <td>2</td>\n      <td>1</td>\n      <td>0</td>\n      <td>1</td>\n      <td>0</td>\n      <td>1</td>\n      <td>1</td>\n      <td>0</td>\n    </tr>\n    <tr>\n      <th>2</th>\n      <td>-19</td>\n      <td>-19</td>\n      <td>-20</td>\n      <td>-19</td>\n      <td>-19</td>\n      <td>-20</td>\n      <td>-18</td>\n      <td>-19</td>\n      <td>-20</td>\n      <td>-19</td>\n      <td>...</td>\n      <td>-18</td>\n      <td>-19</td>\n      <td>-18</td>\n      <td>-19</td>\n      <td>-19</td>\n      <td>-18</td>\n      <td>-19</td>\n      <td>2</td>\n      <td>2</td>\n      <td>0</td>\n    </tr>\n    <tr>\n      <th>3</th>\n      <td>-16</td>\n      <td>-17</td>\n      <td>-17</td>\n      <td>-16</td>\n      <td>-16</td>\n      <td>-15</td>\n      <td>-16</td>\n      <td>-17</td>\n      <td>-18</td>\n      <td>-17</td>\n      <td>...</td>\n      <td>-15</td>\n      <td>-15</td>\n      <td>-15</td>\n      <td>-15</td>\n      <td>-15</td>\n      <td>-14</td>\n      <td>-14</td>\n      <td>3</td>\n      <td>0</td>\n      <td>1</td>\n    </tr>\n    <tr>\n      <th>4</th>\n      <td>-5</td>\n      <td>-6</td>\n      <td>-6</td>\n      <td>-5</td>\n      <td>-5</td>\n      <td>-4</td>\n      <td>-5</td>\n      <td>-7</td>\n      <td>-7</td>\n      <td>-7</td>\n      <td>...</td>\n      <td>-5</td>\n      <td>-4</td>\n      <td>-4</td>\n      <td>-4</td>\n      <td>-4</td>\n      <td>-3</td>\n      <td>-4</td>\n      <td>4</td>\n      <td>1</td>\n      <td>1</td>\n    </tr>\n  </tbody>\n</table>\n<p>5 rows × 800003 columns</p>\n</div>"
     },
     "metadata": {},
     "execution_count": 4
    }
   ],
   "source": [
    "df.head()"
   ]
  },
  {
   "source": [
    "### Todas as linhas das ultimas três colunas"
   ],
   "cell_type": "markdown",
   "metadata": {}
  },
  {
   "cell_type": "code",
   "execution_count": 4,
   "metadata": {},
   "outputs": [],
   "source": [
    "df2 = pd.read_csv(arquivo, usecols=['signal_id', 'phase', 'target'])"
   ]
  },
  {
   "cell_type": "code",
   "execution_count": 5,
   "metadata": {},
   "outputs": [
    {
     "output_type": "execute_result",
     "data": {
      "text/plain": [
       "   signal_id  phase  target\n",
       "0          0      0       0\n",
       "1          1      1       0\n",
       "2          2      2       0\n",
       "3          3      0       1\n",
       "4          4      1       1\n",
       "5          5      2       1\n",
       "6          6      0       0\n",
       "7          7      1       0\n",
       "8          8      2       0"
      ],
      "text/html": "<div>\n<style scoped>\n    .dataframe tbody tr th:only-of-type {\n        vertical-align: middle;\n    }\n\n    .dataframe tbody tr th {\n        vertical-align: top;\n    }\n\n    .dataframe thead th {\n        text-align: right;\n    }\n</style>\n<table border=\"1\" class=\"dataframe\">\n  <thead>\n    <tr style=\"text-align: right;\">\n      <th></th>\n      <th>signal_id</th>\n      <th>phase</th>\n      <th>target</th>\n    </tr>\n  </thead>\n  <tbody>\n    <tr>\n      <th>0</th>\n      <td>0</td>\n      <td>0</td>\n      <td>0</td>\n    </tr>\n    <tr>\n      <th>1</th>\n      <td>1</td>\n      <td>1</td>\n      <td>0</td>\n    </tr>\n    <tr>\n      <th>2</th>\n      <td>2</td>\n      <td>2</td>\n      <td>0</td>\n    </tr>\n    <tr>\n      <th>3</th>\n      <td>3</td>\n      <td>0</td>\n      <td>1</td>\n    </tr>\n    <tr>\n      <th>4</th>\n      <td>4</td>\n      <td>1</td>\n      <td>1</td>\n    </tr>\n    <tr>\n      <th>5</th>\n      <td>5</td>\n      <td>2</td>\n      <td>1</td>\n    </tr>\n    <tr>\n      <th>6</th>\n      <td>6</td>\n      <td>0</td>\n      <td>0</td>\n    </tr>\n    <tr>\n      <th>7</th>\n      <td>7</td>\n      <td>1</td>\n      <td>0</td>\n    </tr>\n    <tr>\n      <th>8</th>\n      <td>8</td>\n      <td>2</td>\n      <td>0</td>\n    </tr>\n  </tbody>\n</table>\n</div>"
     },
     "metadata": {},
     "execution_count": 5
    }
   ],
   "source": [
    "df2.head(9)"
   ]
  },
  {
   "cell_type": "code",
   "execution_count": 6,
   "metadata": {},
   "outputs": [
    {
     "output_type": "stream",
     "name": "stdout",
     "text": [
      "Qtd de linhas: 501\n"
     ]
    }
   ],
   "source": [
    "print('Qtd de linhas:', df2.shape[0])"
   ]
  },
  {
   "cell_type": "code",
   "execution_count": 7,
   "metadata": {},
   "outputs": [
    {
     "output_type": "stream",
     "name": "stdout",
     "text": [
      "Qtd. de valores nulos nas colunas:\n"
     ]
    },
    {
     "output_type": "execute_result",
     "data": {
      "text/plain": [
       "signal_id    0\n",
       "phase        0\n",
       "target       0\n",
       "dtype: int64"
      ]
     },
     "metadata": {},
     "execution_count": 7
    }
   ],
   "source": [
    "print('Qtd. de valores nulos nas colunas:')\n",
    "df2.isna().sum()"
   ]
  },
  {
   "source": [
    "#### Signal_id"
   ],
   "cell_type": "markdown",
   "metadata": {}
  },
  {
   "cell_type": "code",
   "execution_count": 8,
   "metadata": {},
   "outputs": [
    {
     "output_type": "stream",
     "name": "stdout",
     "text": [
      "Qtd. de ids únicos: 501\n"
     ]
    }
   ],
   "source": [
    "print('Qtd. de ids únicos:', len(df2['signal_id'].unique()))"
   ]
  },
  {
   "cell_type": "code",
   "execution_count": 9,
   "metadata": {},
   "outputs": [
    {
     "output_type": "stream",
     "name": "stdout",
     "text": [
      "Está ordenado: True\n"
     ]
    }
   ],
   "source": [
    "print('Está ordenado:', df2['signal_id'].is_monotonic_increasing)"
   ]
  },
  {
   "source": [
    "#### Phase"
   ],
   "cell_type": "markdown",
   "metadata": {}
  },
  {
   "cell_type": "code",
   "execution_count": 38,
   "metadata": {},
   "outputs": [
    {
     "output_type": "stream",
     "name": "stdout",
     "text": [
      "Valores de \"phase\": [0 1 2]\n"
     ]
    }
   ],
   "source": [
    "print('Valores de \"phase\":', df2['phase'].unique())"
   ]
  },
  {
   "cell_type": "code",
   "execution_count": 64,
   "metadata": {},
   "outputs": [
    {
     "output_type": "stream",
     "name": "stdout",
     "text": [
      "Frequência Absoluta:\n   phase\n2    167\n1    167\n0    167\n"
     ]
    }
   ],
   "source": [
    "print('Frequência Absoluta:')\n",
    "print(pd.DataFrame(df2['phase'].value_counts()))"
   ]
  },
  {
   "source": [
    "#### Target"
   ],
   "cell_type": "markdown",
   "metadata": {}
  },
  {
   "cell_type": "code",
   "execution_count": 56,
   "metadata": {},
   "outputs": [
    {
     "output_type": "stream",
     "name": "stdout",
     "text": [
      "Valores de \"target\": [0 1] \n\n"
     ]
    }
   ],
   "source": [
    "print('Valores de \"target\":', df2['target'].unique(), '\\n')"
   ]
  },
  {
   "cell_type": "code",
   "execution_count": 18,
   "metadata": {},
   "outputs": [
    {
     "output_type": "stream",
     "name": "stdout",
     "text": [
      "Freqência de \"target\":\n   Absoluta  Relativa\n0       466      0.93\n1        35      0.07\n"
     ]
    }
   ],
   "source": [
    "freq_abs = df2['target'].value_counts()\n",
    "freq_rel = df2['target'].value_counts(normalize=True).round(2)\n",
    "\n",
    "print('Freqência de \"target\":')\n",
    "print(pd.DataFrame(data={'Absoluta': freq_abs, 'Relativa': freq_rel}))"
   ]
  },
  {
   "source": [
    "Como a quantidade de classes do tipo \"descarga parcial\" (qtd=35) não é multiplo de três, a falha de uma fase pode não afetar outra fase do mesmo conjunto."
   ],
   "cell_type": "markdown",
   "metadata": {}
  },
  {
   "source": [
    "#### Phase & Target"
   ],
   "cell_type": "markdown",
   "metadata": {}
  },
  {
   "cell_type": "code",
   "execution_count": 20,
   "metadata": {},
   "outputs": [
    {
     "output_type": "execute_result",
     "data": {
      "text/plain": [
       "phase  target\n",
       "0      0         156\n",
       "       1          11\n",
       "1      0         156\n",
       "       1          11\n",
       "2      0         154\n",
       "       1          13\n",
       "dtype: int64"
      ]
     },
     "metadata": {},
     "execution_count": 20
    }
   ],
   "source": [
    "df2[['phase','target']].groupby(['phase','target']).size()"
   ]
  },
  {
   "cell_type": "code",
   "execution_count": null,
   "metadata": {},
   "outputs": [],
   "source": []
  }
 ]
}