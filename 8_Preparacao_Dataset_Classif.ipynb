{
 "metadata": {
  "language_info": {
   "codemirror_mode": {
    "name": "ipython",
    "version": 3
   },
   "file_extension": ".py",
   "mimetype": "text/x-python",
   "name": "python",
   "nbconvert_exporter": "python",
   "pygments_lexer": "ipython3",
   "version": "3.8.6-final"
  },
  "orig_nbformat": 2,
  "kernelspec": {
   "name": "python3",
   "display_name": "Python 3.8.6 64-bit",
   "metadata": {
    "interpreter": {
     "hash": "6dfc46ac975ee604bd94d691f908bdbfcb093dd584120a012bab7a2b2e29ee35"
    }
   }
  }
 },
 "nbformat": 4,
 "nbformat_minor": 2,
 "cells": [
  {
   "cell_type": "code",
   "execution_count": 1,
   "metadata": {},
   "outputs": [],
   "source": [
    "import pandas as pd\n",
    "import numpy as np\n",
    "#from sklearn.preprocessing import StandardScaler   #,MinMaxScaler"
   ]
  },
  {
   "cell_type": "code",
   "execution_count": 2,
   "metadata": {},
   "outputs": [],
   "source": [
    "dir_dados = '../2_dados/'\n",
    "arq_sumario = dir_dados + 'data_sumario.parquet'\n",
    "arq_serie = dir_dados + '/data_series/data_{}.npy'"
   ]
  },
  {
   "cell_type": "code",
   "execution_count": 3,
   "metadata": {},
   "outputs": [],
   "source": [
    "arq_treino_sumario = dir_dados + '/treino_teste/treino_sumario.parquet'\n",
    "arq_treino = dir_dados + '/treino_teste/treino.npy'\n",
    "arq_teste_sumario = dir_dados + '/treino_teste/teste_sumario.parquet'\n",
    "arq_teste = dir_dados + '/treino_teste/teste.npy'"
   ]
  },
  {
   "source": [
    "### Abre arquivos"
   ],
   "cell_type": "markdown",
   "metadata": {}
  },
  {
   "cell_type": "code",
   "execution_count": 4,
   "metadata": {},
   "outputs": [],
   "source": [
    "df = pd.read_parquet(arq_sumario)"
   ]
  },
  {
   "cell_type": "code",
   "execution_count": 5,
   "metadata": {},
   "outputs": [
    {
     "output_type": "execute_result",
     "data": {
      "text/plain": [
       "   signal_id  phase  target  arquivo\n",
       "0          0      0       0        1\n",
       "1          1      1       0        1\n",
       "2          2      2       0        1\n",
       "3          3      0       1        2\n",
       "4          4      1       1        2"
      ],
      "text/html": "<div>\n<style scoped>\n    .dataframe tbody tr th:only-of-type {\n        vertical-align: middle;\n    }\n\n    .dataframe tbody tr th {\n        vertical-align: top;\n    }\n\n    .dataframe thead th {\n        text-align: right;\n    }\n</style>\n<table border=\"1\" class=\"dataframe\">\n  <thead>\n    <tr style=\"text-align: right;\">\n      <th></th>\n      <th>signal_id</th>\n      <th>phase</th>\n      <th>target</th>\n      <th>arquivo</th>\n    </tr>\n  </thead>\n  <tbody>\n    <tr>\n      <th>0</th>\n      <td>0</td>\n      <td>0</td>\n      <td>0</td>\n      <td>1</td>\n    </tr>\n    <tr>\n      <th>1</th>\n      <td>1</td>\n      <td>1</td>\n      <td>0</td>\n      <td>1</td>\n    </tr>\n    <tr>\n      <th>2</th>\n      <td>2</td>\n      <td>2</td>\n      <td>0</td>\n      <td>1</td>\n    </tr>\n    <tr>\n      <th>3</th>\n      <td>3</td>\n      <td>0</td>\n      <td>1</td>\n      <td>2</td>\n    </tr>\n    <tr>\n      <th>4</th>\n      <td>4</td>\n      <td>1</td>\n      <td>1</td>\n      <td>2</td>\n    </tr>\n  </tbody>\n</table>\n</div>"
     },
     "metadata": {},
     "execution_count": 5
    }
   ],
   "source": [
    "df.head()"
   ]
  },
  {
   "cell_type": "code",
   "execution_count": 6,
   "metadata": {},
   "outputs": [
    {
     "output_type": "execute_result",
     "data": {
      "text/plain": [
       "0    466\n",
       "1     35\n",
       "Name: target, dtype: int64"
      ]
     },
     "metadata": {},
     "execution_count": 6
    }
   ],
   "source": [
    "df['target'].value_counts()"
   ]
  },
  {
   "cell_type": "code",
   "execution_count": 7,
   "metadata": {},
   "outputs": [
    {
     "output_type": "execute_result",
     "data": {
      "text/plain": [
       "phase  target\n",
       "0      0         156\n",
       "       1          11\n",
       "1      0         156\n",
       "       1          11\n",
       "2      0         154\n",
       "       1          13\n",
       "dtype: int64"
      ]
     },
     "metadata": {},
     "execution_count": 7
    }
   ],
   "source": [
    "df[['phase','target']].groupby(['phase','target']).size()"
   ]
  },
  {
   "source": [
    "### Preparação de dados"
   ],
   "cell_type": "markdown",
   "metadata": {}
  },
  {
   "source": [
    "#### Divide em Treino e Teste"
   ],
   "cell_type": "markdown",
   "metadata": {}
  },
  {
   "cell_type": "code",
   "execution_count": 8,
   "metadata": {},
   "outputs": [],
   "source": [
    "classe_neg_idx = df[df['target'] == 0]\n",
    "classe_pos_idx = df[df['target'] == 1]"
   ]
  },
  {
   "cell_type": "code",
   "execution_count": 9,
   "metadata": {},
   "outputs": [],
   "source": [
    "treino_neg_prop = int(classe_neg_idx.shape[0] * 0.7)    # 70% da classe negativa\n",
    "treino_pos_prop = int(classe_pos_idx.shape[0] * 0.7)    # 70% da classe positiva"
   ]
  },
  {
   "cell_type": "code",
   "execution_count": 10,
   "metadata": {},
   "outputs": [],
   "source": [
    "treino_idx = classe_neg_idx[:treino_neg_prop].append(classe_pos_idx[:treino_pos_prop])\n",
    "teste_idx = classe_neg_idx[treino_neg_prop:].append(classe_pos_idx[treino_pos_prop:])"
   ]
  },
  {
   "cell_type": "code",
   "execution_count": 11,
   "metadata": {},
   "outputs": [
    {
     "output_type": "stream",
     "name": "stdout",
     "text": [
      "Treino:\n0    326\n1     24\nName: target, dtype: int64\n"
     ]
    }
   ],
   "source": [
    "print('Treino:')\n",
    "print(treino_idx['target'].value_counts())"
   ]
  },
  {
   "cell_type": "code",
   "execution_count": 12,
   "metadata": {},
   "outputs": [],
   "source": [
    "# Balanceia treino, deixando os negativos na mesma qtd do positivos\n",
    "treino_idx = treino_idx[-48:]"
   ]
  },
  {
   "cell_type": "code",
   "execution_count": 13,
   "metadata": {},
   "outputs": [
    {
     "output_type": "stream",
     "name": "stdout",
     "text": [
      "Treino:\n1    24\n0    24\nName: target, dtype: int64\n"
     ]
    }
   ],
   "source": [
    "print('Treino:')\n",
    "print(treino_idx['target'].value_counts())"
   ]
  },
  {
   "cell_type": "code",
   "execution_count": 14,
   "metadata": {},
   "outputs": [
    {
     "output_type": "stream",
     "name": "stdout",
     "text": [
      "Teste:\n0    140\n1     11\nName: target, dtype: int64\n"
     ]
    }
   ],
   "source": [
    "print('Teste:')\n",
    "print(teste_idx['target'].value_counts())"
   ]
  },
  {
   "cell_type": "code",
   "execution_count": 15,
   "metadata": {},
   "outputs": [],
   "source": [
    "def getSerie(df_index):\n",
    "    dataset = []\n",
    "    for _, linha in df_index.iterrows():\n",
    "        serie = np.load(arq_serie.format(linha['arquivo']))\n",
    "        fase = serie[linha['phase']]\n",
    "        dataset.append(fase)\n",
    "    return np.array(dataset)"
   ]
  },
  {
   "cell_type": "code",
   "execution_count": 16,
   "metadata": {},
   "outputs": [
    {
     "output_type": "stream",
     "name": "stdout",
     "text": [
      "Dimensões de treino: (48, 800000)\n"
     ]
    }
   ],
   "source": [
    "treino = getSerie(treino_idx)\n",
    "print('Dimensões de treino:', treino.shape)"
   ]
  },
  {
   "cell_type": "code",
   "execution_count": 17,
   "metadata": {},
   "outputs": [
    {
     "output_type": "stream",
     "name": "stdout",
     "text": [
      "Dimensões de teste: (151, 800000)\n"
     ]
    }
   ],
   "source": [
    "teste = getSerie(teste_idx)\n",
    "print('Dimensões de teste:', teste.shape)"
   ]
  },
  {
   "source": [
    "#### Obtem dados estatísticos das séries\n",
    "(mínimo, máximo, média, mediana, desvio padrão e percentis 25 e 75)"
   ],
   "cell_type": "markdown",
   "metadata": {}
  },
  {
   "cell_type": "code",
   "execution_count": 18,
   "metadata": {},
   "outputs": [],
   "source": [
    "treino = np.nan_to_num(treino.astype(np.int32), nan=0, posinf=0, neginf=0)\n",
    "teste = np.nan_to_num(teste.astype(np.int32), nan=0, posinf=0, neginf=0)"
   ]
  },
  {
   "cell_type": "code",
   "execution_count": 19,
   "metadata": {},
   "outputs": [],
   "source": [
    "#scaler = StandardScaler()   #StandardScaler(), MinMaxScaler()\n",
    "def getMeanDataset(dataset):\n",
    "    qtd = 2000\n",
    "    data = []\n",
    "    for linha in dataset:\n",
    "        serie = []\n",
    "        for i in range(0, len(linha), qtd):\n",
    "            fatia = linha[i:i + qtd]\n",
    "            serie.append([np.min(fatia), np.max(fatia), np.mean(fatia), np.percentile(fatia, 25), np.median(fatia), np.percentile(fatia, 75), np.std(fatia)])\n",
    "        #serie = scaler.fit_transform(serie)\n",
    "        data.append(serie)\n",
    "    return np.array(data)"
   ]
  },
  {
   "cell_type": "code",
   "execution_count": 20,
   "metadata": {},
   "outputs": [],
   "source": [
    "treino = getMeanDataset(treino)\n",
    "teste = getMeanDataset(teste)"
   ]
  },
  {
   "cell_type": "code",
   "execution_count": 21,
   "metadata": {},
   "outputs": [
    {
     "output_type": "stream",
     "name": "stdout",
     "text": [
      "Dimesão de treino: (48, 400, 7)\nDimesão de teste: (151, 400, 7)\n"
     ]
    }
   ],
   "source": [
    "print('Dimesão de treino:', treino.shape)\n",
    "print('Dimesão de teste:', teste.shape)"
   ]
  },
  {
   "source": [
    "#### Salva arquivos"
   ],
   "cell_type": "markdown",
   "metadata": {}
  },
  {
   "cell_type": "code",
   "execution_count": 22,
   "metadata": {},
   "outputs": [],
   "source": [
    "treino_idx.to_parquet(arq_treino_sumario)\n",
    "teste_idx.to_parquet(arq_teste_sumario)"
   ]
  },
  {
   "cell_type": "code",
   "execution_count": 23,
   "metadata": {},
   "outputs": [],
   "source": [
    "np.save(arq_treino, treino)\n",
    "np.save(arq_teste, teste)"
   ]
  },
  {
   "cell_type": "code",
   "execution_count": null,
   "metadata": {},
   "outputs": [],
   "source": []
  }
 ]
}