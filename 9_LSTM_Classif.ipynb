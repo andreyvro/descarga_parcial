{
 "metadata": {
  "language_info": {
   "codemirror_mode": {
    "name": "ipython",
    "version": 3
   },
   "file_extension": ".py",
   "mimetype": "text/x-python",
   "name": "python",
   "nbconvert_exporter": "python",
   "pygments_lexer": "ipython3",
   "version": "3.8.6-final"
  },
  "orig_nbformat": 2,
  "kernelspec": {
   "name": "python3",
   "display_name": "Python 3.8.6 64-bit",
   "metadata": {
    "interpreter": {
     "hash": "6dfc46ac975ee604bd94d691f908bdbfcb093dd584120a012bab7a2b2e29ee35"
    }
   }
  }
 },
 "nbformat": 4,
 "nbformat_minor": 2,
 "cells": [
  {
   "cell_type": "code",
   "execution_count": 1,
   "metadata": {},
   "outputs": [],
   "source": [
    "import pandas as pd\n",
    "import numpy as np\n",
    "import tensorflow as tf\n",
    "from tensorflow import keras\n",
    "from tensorflow.keras import layers\n",
    "from matplotlib import pyplot as plt\n",
    "from tqdm.notebook import tqdm\n",
    "from sklearn.metrics import precision_recall_fscore_support, confusion_matrix, classification_report\n",
    "import seaborn as sns"
   ]
  },
  {
   "cell_type": "code",
   "execution_count": 2,
   "metadata": {},
   "outputs": [],
   "source": [
    "dir_dados = '../2_dados/'\n",
    "arq_treino_sumario = dir_dados + '/treino_teste/treino_sumario.parquet'\n",
    "arq_treino = dir_dados + '/treino_teste/treino.npy'\n",
    "arq_teste_sumario = dir_dados + '/treino_teste/teste_sumario.parquet'\n",
    "arq_teste = dir_dados + '/treino_teste/teste.npy'"
   ]
  },
  {
   "source": [
    "#### Abre arquivos"
   ],
   "cell_type": "markdown",
   "metadata": {}
  },
  {
   "cell_type": "code",
   "execution_count": 3,
   "metadata": {},
   "outputs": [],
   "source": [
    "treino_idx = pd.read_parquet(arq_treino_sumario)    # Possui o target do treino\n",
    "teste_idx = pd.read_parquet(arq_teste_sumario)      # Possui o target do teste"
   ]
  },
  {
   "cell_type": "code",
   "execution_count": 4,
   "metadata": {},
   "outputs": [
    {
     "output_type": "stream",
     "name": "stdout",
     "text": [
      "Treino:\n1    24\n0    24\nName: target, dtype: int64\n"
     ]
    }
   ],
   "source": [
    "print('Treino:')\n",
    "print(treino_idx['target'].value_counts())"
   ]
  },
  {
   "cell_type": "code",
   "execution_count": 5,
   "metadata": {},
   "outputs": [
    {
     "output_type": "stream",
     "name": "stdout",
     "text": [
      "Teste:\n0    140\n1     11\nName: target, dtype: int64\n"
     ]
    }
   ],
   "source": [
    "print('Teste:')\n",
    "print(teste_idx['target'].value_counts())"
   ]
  },
  {
   "cell_type": "code",
   "execution_count": 6,
   "metadata": {},
   "outputs": [],
   "source": [
    "treino = np.load(arq_treino)\n",
    "teste = np.load(arq_teste)"
   ]
  },
  {
   "cell_type": "code",
   "execution_count": 7,
   "metadata": {},
   "outputs": [],
   "source": [
    "#treino = treino.reshape(-1, treino.shape[1], 1)\n",
    "#teste = teste.reshape(-1, teste.shape[1], 1)"
   ]
  },
  {
   "cell_type": "code",
   "execution_count": 8,
   "metadata": {},
   "outputs": [
    {
     "output_type": "stream",
     "name": "stdout",
     "text": [
      "Dimensão de Treino: (48, 400, 7)\nDimensão de Teste: (151, 400, 7)\n"
     ]
    }
   ],
   "source": [
    "print('Dimensão de Treino:', treino.shape)\n",
    "print('Dimensão de Teste:', teste.shape)"
   ]
  },
  {
   "cell_type": "code",
   "execution_count": 9,
   "metadata": {},
   "outputs": [],
   "source": [
    "treino_true = treino_idx['target'].to_numpy().reshape(-1, 1)\n",
    "teste_true = teste_idx['target'].to_numpy().reshape(-1, 1)"
   ]
  },
  {
   "source": [
    "### Classificador binário com LSTM"
   ],
   "cell_type": "markdown",
   "metadata": {}
  },
  {
   "source": [
    "model = keras.Sequential()\n",
    "model.add(layers.LSTM(1000, return_sequences=True, input_shape=(treino.shape[1], treino.shape[2])))\n",
    "model.add(layers.Dropout(0.2))\n",
    "model.add(layers.LSTM(500, return_sequences=True))\n",
    "model.add(layers.Dropout(0.2))\n",
    "model.add(layers.LSTM(250, return_sequences=True))\n",
    "model.add(layers.Dropout(0.2))\n",
    "model.add(layers.LSTM(100))\n",
    "model.add(layers.Dropout(0.2))\n",
    "model.add(layers.Dense(1, activation='sigmoid'))\n",
    "model.compile(loss='binary_crossentropy', optimizer=keras.optimizers.Adam(learning_rate=0.00001), metrics=[tf.keras.metrics.Precision(), tf.keras.metrics.Recall()])\n",
    "model.summary()"
   ],
   "cell_type": "markdown",
   "metadata": {}
  },
  {
   "source": [
    "model = keras.Sequential()\n",
    "model.add(layers.LSTM(100, input_shape=(treino.shape[1], treino.shape[2]), recurrent_regularizer=keras.regularizers.l2(0.1)))\n",
    "#model.add(layers.Dropout(0.1))\n",
    "#model.add(layers.Dense(200, activation='relu'))\n",
    "#model.add(layers.Dropout(0.2))\n",
    "#model.add(layers.Dense(100, activation='relu'))\n",
    "#model.add(layers.Dropout(0.1))\n",
    "model.add(layers.Dense(1, activation='sigmoid'))\n",
    "model.compile(loss='binary_crossentropy', optimizer=keras.optimizers.Adam(learning_rate=0.001), metrics=[tf.keras.metrics.Precision(), tf.keras.metrics.Recall()])\n",
    "model.summary()"
   ],
   "cell_type": "code",
   "metadata": {},
   "execution_count": 103,
   "outputs": [
    {
     "output_type": "stream",
     "name": "stdout",
     "text": [
      "Model: \"sequential_14\"\n_________________________________________________________________\nLayer (type)                 Output Shape              Param #   \n=================================================================\nlstm_13 (LSTM)               (None, 100)               43200     \n_________________________________________________________________\ndense_22 (Dense)             (None, 1)                 101       \n=================================================================\nTotal params: 43,301\nTrainable params: 43,301\nNon-trainable params: 0\n_________________________________________________________________\n"
     ]
    }
   ]
  },
  {
   "cell_type": "code",
   "execution_count": 104,
   "metadata": {
    "tags": []
   },
   "outputs": [
    {
     "output_type": "stream",
     "name": "stdout",
     "text": [
      "Epoch 1/100\n",
      "3/3 [==============================] - 1s 332ms/step - loss: 10.4534 - precision_14: 0.5161 - recall_14: 0.6667 - val_loss: 9.7873 - val_precision_14: 0.0814 - val_recall_14: 0.6364\n",
      "Epoch 2/100\n",
      "3/3 [==============================] - 1s 215ms/step - loss: 9.5309 - precision_14: 0.5484 - recall_14: 0.7083 - val_loss: 8.9227 - val_precision_14: 0.0658 - val_recall_14: 0.4545\n",
      "Epoch 3/100\n",
      "3/3 [==============================] - 1s 215ms/step - loss: 8.6813 - precision_14: 0.6000 - recall_14: 0.6250 - val_loss: 8.1317 - val_precision_14: 0.0678 - val_recall_14: 0.3636\n",
      "Epoch 4/100\n",
      "3/3 [==============================] - 1s 217ms/step - loss: 7.9090 - precision_14: 0.6400 - recall_14: 0.6667 - val_loss: 7.4526 - val_precision_14: 0.0714 - val_recall_14: 0.5455\n",
      "Epoch 5/100\n",
      "3/3 [==============================] - 1s 216ms/step - loss: 7.2071 - precision_14: 0.6429 - recall_14: 0.7500 - val_loss: 6.8035 - val_precision_14: 0.0870 - val_recall_14: 0.5455\n",
      "Epoch 6/100\n",
      "3/3 [==============================] - 1s 218ms/step - loss: 6.5694 - precision_14: 0.6400 - recall_14: 0.6667 - val_loss: 6.1928 - val_precision_14: 0.1042 - val_recall_14: 0.4545\n",
      "Epoch 7/100\n",
      "3/3 [==============================] - 1s 219ms/step - loss: 5.9822 - precision_14: 0.7500 - recall_14: 0.5000 - val_loss: 5.6575 - val_precision_14: 0.0909 - val_recall_14: 0.3636\n",
      "Epoch 8/100\n",
      "3/3 [==============================] - 1s 215ms/step - loss: 5.4575 - precision_14: 0.7222 - recall_14: 0.5417 - val_loss: 5.1930 - val_precision_14: 0.0962 - val_recall_14: 0.4545\n",
      "Epoch 9/100\n",
      "3/3 [==============================] - 1s 219ms/step - loss: 4.9793 - precision_14: 0.7500 - recall_14: 0.6250 - val_loss: 4.7629 - val_precision_14: 0.0926 - val_recall_14: 0.4545\n",
      "Epoch 10/100\n",
      "3/3 [==============================] - 1s 199ms/step - loss: 4.5460 - precision_14: 0.7619 - recall_14: 0.6667 - val_loss: 4.3778 - val_precision_14: 0.1167 - val_recall_14: 0.6364\n",
      "Epoch 11/100\n",
      "3/3 [==============================] - 1s 219ms/step - loss: 4.1531 - precision_14: 0.7727 - recall_14: 0.7083 - val_loss: 4.0304 - val_precision_14: 0.1029 - val_recall_14: 0.6364\n",
      "Epoch 12/100\n",
      "3/3 [==============================] - 1s 198ms/step - loss: 3.8001 - precision_14: 0.6923 - recall_14: 0.7500 - val_loss: 3.7323 - val_precision_14: 0.0875 - val_recall_14: 0.6364\n",
      "Epoch 13/100\n",
      "3/3 [==============================] - 1s 199ms/step - loss: 3.4842 - precision_14: 0.6667 - recall_14: 0.7500 - val_loss: 3.4541 - val_precision_14: 0.0864 - val_recall_14: 0.6364\n",
      "Epoch 14/100\n",
      "3/3 [==============================] - 1s 220ms/step - loss: 3.1943 - precision_14: 0.6923 - recall_14: 0.7500 - val_loss: 3.1712 - val_precision_14: 0.0921 - val_recall_14: 0.6364\n",
      "Epoch 15/100\n",
      "3/3 [==============================] - 1s 198ms/step - loss: 2.9329 - precision_14: 0.7500 - recall_14: 0.7500 - val_loss: 2.8969 - val_precision_14: 0.1111 - val_recall_14: 0.6364\n",
      "Epoch 16/100\n",
      "3/3 [==============================] - 1s 218ms/step - loss: 2.6998 - precision_14: 0.7727 - recall_14: 0.7083 - val_loss: 2.6581 - val_precision_14: 0.1224 - val_recall_14: 0.5455\n",
      "Epoch 17/100\n",
      "3/3 [==============================] - 1s 198ms/step - loss: 2.4921 - precision_14: 0.8235 - recall_14: 0.5833 - val_loss: 2.4581 - val_precision_14: 0.1163 - val_recall_14: 0.4545\n",
      "Epoch 18/100\n",
      "3/3 [==============================] - 1s 220ms/step - loss: 2.2995 - precision_14: 0.8235 - recall_14: 0.5833 - val_loss: 2.3166 - val_precision_14: 0.1228 - val_recall_14: 0.6364\n",
      "Epoch 19/100\n",
      "3/3 [==============================] - 1s 219ms/step - loss: 2.1237 - precision_14: 0.7895 - recall_14: 0.6250 - val_loss: 2.1789 - val_precision_14: 0.1167 - val_recall_14: 0.6364\n",
      "Epoch 20/100\n",
      "3/3 [==============================] - 1s 217ms/step - loss: 1.9679 - precision_14: 0.7727 - recall_14: 0.7083 - val_loss: 2.0763 - val_precision_14: 0.0972 - val_recall_14: 0.6364\n",
      "Epoch 21/100\n",
      "3/3 [==============================] - 1s 202ms/step - loss: 1.8333 - precision_14: 0.7826 - recall_14: 0.7500 - val_loss: 1.9545 - val_precision_14: 0.1000 - val_recall_14: 0.6364\n",
      "Epoch 22/100\n",
      "3/3 [==============================] - 1s 197ms/step - loss: 1.7024 - precision_14: 0.8095 - recall_14: 0.7083 - val_loss: 1.8180 - val_precision_14: 0.1077 - val_recall_14: 0.6364\n",
      "Epoch 23/100\n",
      "3/3 [==============================] - 1s 217ms/step - loss: 1.5911 - precision_14: 0.7391 - recall_14: 0.7083 - val_loss: 1.7540 - val_precision_14: 0.0897 - val_recall_14: 0.6364\n",
      "Epoch 24/100\n",
      "3/3 [==============================] - 0s 123ms/step - loss: 1.4996 - precision_14: 0.6923 - recall_14: 0.7500 - val_loss: 1.6496 - val_precision_14: 0.0959 - val_recall_14: 0.6364\n",
      "Epoch 25/100\n",
      "3/3 [==============================] - 0s 77ms/step - loss: 1.4030 - precision_14: 0.6800 - recall_14: 0.7083 - val_loss: 1.4999 - val_precision_14: 0.1273 - val_recall_14: 0.6364\n",
      "Epoch 26/100\n",
      "3/3 [==============================] - 0s 78ms/step - loss: 1.3166 - precision_14: 0.7778 - recall_14: 0.5833 - val_loss: 1.3912 - val_precision_14: 0.1556 - val_recall_14: 0.6364\n",
      "Epoch 27/100\n",
      "3/3 [==============================] - 0s 112ms/step - loss: 1.2388 - precision_14: 1.0000 - recall_14: 0.5833 - val_loss: 1.3025 - val_precision_14: 0.1707 - val_recall_14: 0.6364\n",
      "Epoch 28/100\n",
      "3/3 [==============================] - 0s 130ms/step - loss: 1.1735 - precision_14: 1.0000 - recall_14: 0.5833 - val_loss: 1.2523 - val_precision_14: 0.1429 - val_recall_14: 0.6364\n",
      "Epoch 29/100\n",
      "3/3 [==============================] - 0s 132ms/step - loss: 1.1000 - precision_14: 0.8824 - recall_14: 0.6250 - val_loss: 1.2398 - val_precision_14: 0.1250 - val_recall_14: 0.6364\n",
      "Epoch 30/100\n",
      "3/3 [==============================] - 0s 131ms/step - loss: 1.0403 - precision_14: 0.8095 - recall_14: 0.7083 - val_loss: 1.2426 - val_precision_14: 0.0986 - val_recall_14: 0.6364\n",
      "Epoch 31/100\n",
      "3/3 [==============================] - 0s 107ms/step - loss: 0.9906 - precision_14: 0.8636 - recall_14: 0.7917 - val_loss: 1.2167 - val_precision_14: 0.1125 - val_recall_14: 0.8182\n",
      "Epoch 32/100\n",
      "3/3 [==============================] - 0s 74ms/step - loss: 0.9439 - precision_14: 0.8261 - recall_14: 0.7917 - val_loss: 1.1840 - val_precision_14: 0.1125 - val_recall_14: 0.8182\n",
      "Epoch 33/100\n",
      "3/3 [==============================] - 0s 112ms/step - loss: 0.9036 - precision_14: 0.8571 - recall_14: 0.7500 - val_loss: 1.0833 - val_precision_14: 0.1400 - val_recall_14: 0.6364\n",
      "Epoch 34/100\n",
      "3/3 [==============================] - 0s 108ms/step - loss: 0.8637 - precision_14: 0.8824 - recall_14: 0.6250 - val_loss: 1.0291 - val_precision_14: 0.1429 - val_recall_14: 0.6364\n",
      "Epoch 35/100\n",
      "3/3 [==============================] - 0s 74ms/step - loss: 0.8159 - precision_14: 0.7391 - recall_14: 0.7083 - val_loss: 1.0646 - val_precision_14: 0.0921 - val_recall_14: 0.6364\n",
      "Epoch 36/100\n",
      "3/3 [==============================] - 0s 79ms/step - loss: 0.7969 - precision_14: 0.6923 - recall_14: 0.7500 - val_loss: 1.0081 - val_precision_14: 0.0959 - val_recall_14: 0.6364\n",
      "Epoch 37/100\n",
      "3/3 [==============================] - 0s 76ms/step - loss: 0.7617 - precision_14: 0.7308 - recall_14: 0.7917 - val_loss: 1.0201 - val_precision_14: 0.0897 - val_recall_14: 0.6364\n",
      "Epoch 38/100\n",
      "3/3 [==============================] - 0s 116ms/step - loss: 0.7252 - precision_14: 0.7308 - recall_14: 0.7917 - val_loss: 0.9634 - val_precision_14: 0.1029 - val_recall_14: 0.6364\n",
      "Epoch 39/100\n",
      "3/3 [==============================] - 0s 105ms/step - loss: 0.7079 - precision_14: 0.8261 - recall_14: 0.7917 - val_loss: 0.8925 - val_precision_14: 0.1591 - val_recall_14: 0.6364\n",
      "Epoch 40/100\n",
      "3/3 [==============================] - 0s 77ms/step - loss: 0.6829 - precision_14: 0.8824 - recall_14: 0.6250 - val_loss: 0.8546 - val_precision_14: 0.1250 - val_recall_14: 0.4545\n",
      "Epoch 41/100\n",
      "3/3 [==============================] - 0s 117ms/step - loss: 0.6740 - precision_14: 0.8889 - recall_14: 0.6667 - val_loss: 0.8207 - val_precision_14: 0.1136 - val_recall_14: 0.4545\n",
      "Epoch 42/100\n",
      "3/3 [==============================] - 0s 67ms/step - loss: 0.6584 - precision_14: 0.8095 - recall_14: 0.7083 - val_loss: 0.8988 - val_precision_14: 0.1552 - val_recall_14: 0.8182\n",
      "Epoch 43/100\n",
      "3/3 [==============================] - 0s 78ms/step - loss: 0.6247 - precision_14: 0.8500 - recall_14: 0.7083 - val_loss: 0.8668 - val_precision_14: 0.1404 - val_recall_14: 0.7273\n",
      "Epoch 44/100\n",
      "3/3 [==============================] - 0s 72ms/step - loss: 0.6060 - precision_14: 0.9000 - recall_14: 0.7500 - val_loss: 0.8304 - val_precision_14: 0.1346 - val_recall_14: 0.6364\n",
      "Epoch 45/100\n",
      "3/3 [==============================] - 0s 72ms/step - loss: 0.5939 - precision_14: 1.0000 - recall_14: 0.7083 - val_loss: 0.7881 - val_precision_14: 0.1429 - val_recall_14: 0.5455\n",
      "Epoch 46/100\n",
      "3/3 [==============================] - 0s 71ms/step - loss: 0.5678 - precision_14: 1.0000 - recall_14: 0.6667 - val_loss: 0.8075 - val_precision_14: 0.1250 - val_recall_14: 0.6364\n",
      "Epoch 47/100\n",
      "3/3 [==============================] - 0s 69ms/step - loss: 0.5588 - precision_14: 0.8261 - recall_14: 0.7917 - val_loss: 0.8426 - val_precision_14: 0.0959 - val_recall_14: 0.6364\n",
      "Epoch 48/100\n",
      "3/3 [==============================] - 0s 69ms/step - loss: 0.5460 - precision_14: 0.7917 - recall_14: 0.7917 - val_loss: 0.7795 - val_precision_14: 0.0968 - val_recall_14: 0.5455\n",
      "Epoch 49/100\n",
      "3/3 [==============================] - 0s 72ms/step - loss: 0.5275 - precision_14: 0.9474 - recall_14: 0.7500 - val_loss: 0.7418 - val_precision_14: 0.1071 - val_recall_14: 0.5455\n",
      "Epoch 50/100\n",
      "3/3 [==============================] - 0s 70ms/step - loss: 0.5180 - precision_14: 0.9048 - recall_14: 0.7917 - val_loss: 0.7240 - val_precision_14: 0.1154 - val_recall_14: 0.5455\n",
      "Epoch 51/100\n",
      "3/3 [==============================] - 0s 73ms/step - loss: 0.5012 - precision_14: 1.0000 - recall_14: 0.7083 - val_loss: 0.7048 - val_precision_14: 0.0909 - val_recall_14: 0.2727\n",
      "Epoch 52/100\n",
      "3/3 [==============================] - 0s 69ms/step - loss: 0.4983 - precision_14: 0.9444 - recall_14: 0.7083 - val_loss: 0.7635 - val_precision_14: 0.1569 - val_recall_14: 0.7273\n",
      "Epoch 53/100\n",
      "3/3 [==============================] - 0s 72ms/step - loss: 0.4913 - precision_14: 0.9500 - recall_14: 0.7917 - val_loss: 0.7637 - val_precision_14: 0.1538 - val_recall_14: 0.7273\n",
      "Epoch 54/100\n",
      "3/3 [==============================] - 0s 79ms/step - loss: 0.4871 - precision_14: 0.9000 - recall_14: 0.7500 - val_loss: 0.7329 - val_precision_14: 0.1364 - val_recall_14: 0.5455\n",
      "Epoch 55/100\n",
      "3/3 [==============================] - 0s 71ms/step - loss: 0.4725 - precision_14: 0.9500 - recall_14: 0.7917 - val_loss: 0.7294 - val_precision_14: 0.1556 - val_recall_14: 0.6364\n",
      "Epoch 56/100\n",
      "3/3 [==============================] - 0s 75ms/step - loss: 0.4573 - precision_14: 1.0000 - recall_14: 0.7917 - val_loss: 0.6577 - val_precision_14: 0.1714 - val_recall_14: 0.5455\n",
      "Epoch 57/100\n",
      "3/3 [==============================] - 0s 73ms/step - loss: 0.4547 - precision_14: 1.0000 - recall_14: 0.7083 - val_loss: 0.7010 - val_precision_14: 0.1556 - val_recall_14: 0.6364\n",
      "Epoch 58/100\n",
      "3/3 [==============================] - 0s 73ms/step - loss: 0.4512 - precision_14: 0.9048 - recall_14: 0.7917 - val_loss: 0.7028 - val_precision_14: 0.1333 - val_recall_14: 0.5455\n",
      "Epoch 59/100\n",
      "3/3 [==============================] - 0s 73ms/step - loss: 0.4414 - precision_14: 0.9500 - recall_14: 0.7917 - val_loss: 0.6508 - val_precision_14: 0.1892 - val_recall_14: 0.6364\n",
      "Epoch 60/100\n",
      "3/3 [==============================] - 0s 73ms/step - loss: 0.4472 - precision_14: 1.0000 - recall_14: 0.7083 - val_loss: 0.6514 - val_precision_14: 0.1818 - val_recall_14: 0.7273\n",
      "Epoch 61/100\n",
      "3/3 [==============================] - 0s 71ms/step - loss: 0.4079 - precision_14: 0.9091 - recall_14: 0.8333 - val_loss: 0.7377 - val_precision_14: 0.1304 - val_recall_14: 0.8182\n",
      "Epoch 62/100\n",
      "3/3 [==============================] - 0s 71ms/step - loss: 0.4302 - precision_14: 0.9130 - recall_14: 0.8750 - val_loss: 0.6385 - val_precision_14: 0.1750 - val_recall_14: 0.6364\n",
      "Epoch 63/100\n",
      "3/3 [==============================] - 0s 74ms/step - loss: 0.4260 - precision_14: 1.0000 - recall_14: 0.7500 - val_loss: 0.6388 - val_precision_14: 0.1579 - val_recall_14: 0.5455\n",
      "Epoch 64/100\n",
      "3/3 [==============================] - 0s 71ms/step - loss: 0.4072 - precision_14: 1.0000 - recall_14: 0.7917 - val_loss: 0.6392 - val_precision_14: 0.1765 - val_recall_14: 0.5455\n",
      "Epoch 65/100\n",
      "3/3 [==============================] - 0s 72ms/step - loss: 0.3922 - precision_14: 1.0000 - recall_14: 0.7500 - val_loss: 0.5774 - val_precision_14: 0.1667 - val_recall_14: 0.4545\n",
      "Epoch 66/100\n",
      "3/3 [==============================] - 0s 74ms/step - loss: 0.4063 - precision_14: 0.9444 - recall_14: 0.7083 - val_loss: 0.9791 - val_precision_14: 0.0941 - val_recall_14: 0.7273\n",
      "Epoch 67/100\n",
      "3/3 [==============================] - 0s 71ms/step - loss: 0.4867 - precision_14: 0.7241 - recall_14: 0.8750 - val_loss: 0.8976 - val_precision_14: 0.0897 - val_recall_14: 0.6364\n",
      "Epoch 68/100\n",
      "3/3 [==============================] - 0s 72ms/step - loss: 0.4502 - precision_14: 0.8261 - recall_14: 0.7917 - val_loss: 0.6298 - val_precision_14: 0.1667 - val_recall_14: 0.5455\n",
      "Epoch 69/100\n",
      "3/3 [==============================] - 0s 71ms/step - loss: 0.4514 - precision_14: 1.0000 - recall_14: 0.5833 - val_loss: 0.5622 - val_precision_14: 0.1923 - val_recall_14: 0.4545\n",
      "Epoch 70/100\n",
      "3/3 [==============================] - 0s 75ms/step - loss: 0.4601 - precision_14: 1.0000 - recall_14: 0.5833 - val_loss: 0.5602 - val_precision_14: 0.1667 - val_recall_14: 0.4545\n",
      "Epoch 71/100\n",
      "3/3 [==============================] - 0s 70ms/step - loss: 0.4510 - precision_14: 1.0000 - recall_14: 0.5833 - val_loss: 0.6200 - val_precision_14: 0.1622 - val_recall_14: 0.5455\n",
      "Epoch 72/100\n",
      "3/3 [==============================] - 0s 69ms/step - loss: 0.4237 - precision_14: 1.0000 - recall_14: 0.7083 - val_loss: 0.6869 - val_precision_14: 0.1538 - val_recall_14: 0.7273\n",
      "Epoch 73/100\n",
      "3/3 [==============================] - 0s 72ms/step - loss: 0.4008 - precision_14: 0.9130 - recall_14: 0.8750 - val_loss: 0.8022 - val_precision_14: 0.1724 - val_recall_14: 0.9091\n",
      "Epoch 74/100\n",
      "3/3 [==============================] - 0s 72ms/step - loss: 0.3985 - precision_14: 0.8750 - recall_14: 0.8750 - val_loss: 0.8031 - val_precision_14: 0.1452 - val_recall_14: 0.8182\n",
      "Epoch 75/100\n",
      "3/3 [==============================] - 0s 69ms/step - loss: 0.3931 - precision_14: 0.9524 - recall_14: 0.8333 - val_loss: 0.6882 - val_precision_14: 0.1667 - val_recall_14: 0.6364\n",
      "Epoch 76/100\n",
      "3/3 [==============================] - 0s 74ms/step - loss: 0.3723 - precision_14: 1.0000 - recall_14: 0.7917 - val_loss: 0.6052 - val_precision_14: 0.1818 - val_recall_14: 0.5455\n",
      "Epoch 77/100\n",
      "3/3 [==============================] - 0s 70ms/step - loss: 0.3658 - precision_14: 1.0000 - recall_14: 0.7917 - val_loss: 0.6136 - val_precision_14: 0.1316 - val_recall_14: 0.4545\n",
      "Epoch 78/100\n",
      "3/3 [==============================] - 0s 69ms/step - loss: 0.3611 - precision_14: 1.0000 - recall_14: 0.7500 - val_loss: 0.6602 - val_precision_14: 0.1556 - val_recall_14: 0.6364\n",
      "Epoch 79/100\n",
      "3/3 [==============================] - 0s 71ms/step - loss: 0.3455 - precision_14: 0.9500 - recall_14: 0.7917 - val_loss: 0.6509 - val_precision_14: 0.1667 - val_recall_14: 0.6364\n",
      "Epoch 80/100\n",
      "3/3 [==============================] - 0s 73ms/step - loss: 0.3445 - precision_14: 0.9524 - recall_14: 0.8333 - val_loss: 0.6857 - val_precision_14: 0.1667 - val_recall_14: 0.7273\n",
      "Epoch 81/100\n",
      "3/3 [==============================] - 0s 71ms/step - loss: 0.3351 - precision_14: 0.9524 - recall_14: 0.8333 - val_loss: 0.7213 - val_precision_14: 0.1667 - val_recall_14: 0.8182\n",
      "Epoch 82/100\n",
      "3/3 [==============================] - 0s 68ms/step - loss: 0.3406 - precision_14: 0.9524 - recall_14: 0.8333 - val_loss: 0.6371 - val_precision_14: 0.1905 - val_recall_14: 0.7273\n",
      "Epoch 83/100\n",
      "3/3 [==============================] - 0s 72ms/step - loss: 0.3390 - precision_14: 1.0000 - recall_14: 0.7917 - val_loss: 0.6260 - val_precision_14: 0.1500 - val_recall_14: 0.5455\n",
      "Epoch 84/100\n",
      "3/3 [==============================] - 0s 73ms/step - loss: 0.3146 - precision_14: 1.0000 - recall_14: 0.7917 - val_loss: 0.6394 - val_precision_14: 0.2273 - val_recall_14: 0.9091\n",
      "Epoch 85/100\n",
      "3/3 [==============================] - 0s 73ms/step - loss: 0.3227 - precision_14: 0.9524 - recall_14: 0.8333 - val_loss: 0.6402 - val_precision_14: 0.1951 - val_recall_14: 0.7273\n",
      "Epoch 86/100\n",
      "3/3 [==============================] - 0s 74ms/step - loss: 0.3169 - precision_14: 0.9524 - recall_14: 0.8333 - val_loss: 0.5778 - val_precision_14: 0.1389 - val_recall_14: 0.4545\n",
      "Epoch 87/100\n",
      "3/3 [==============================] - 0s 70ms/step - loss: 0.3127 - precision_14: 1.0000 - recall_14: 0.8333 - val_loss: 0.5455 - val_precision_14: 0.2000 - val_recall_14: 0.6364\n",
      "Epoch 88/100\n",
      "3/3 [==============================] - 0s 69ms/step - loss: 0.3182 - precision_14: 1.0000 - recall_14: 0.8333 - val_loss: 0.4734 - val_precision_14: 0.2174 - val_recall_14: 0.4545\n",
      "Epoch 89/100\n",
      "3/3 [==============================] - 0s 70ms/step - loss: 0.3249 - precision_14: 1.0000 - recall_14: 0.7917 - val_loss: 0.5233 - val_precision_14: 0.1724 - val_recall_14: 0.4545\n",
      "Epoch 90/100\n",
      "3/3 [==============================] - 0s 70ms/step - loss: 0.3115 - precision_14: 1.0000 - recall_14: 0.7917 - val_loss: 0.6303 - val_precision_14: 0.2143 - val_recall_14: 0.8182\n",
      "Epoch 91/100\n",
      "3/3 [==============================] - 0s 72ms/step - loss: 0.3091 - precision_14: 0.9524 - recall_14: 0.8333 - val_loss: 0.5661 - val_precision_14: 0.1944 - val_recall_14: 0.6364\n",
      "Epoch 92/100\n",
      "3/3 [==============================] - 0s 72ms/step - loss: 0.2973 - precision_14: 1.0000 - recall_14: 0.8333 - val_loss: 0.5691 - val_precision_14: 0.1765 - val_recall_14: 0.5455\n",
      "Epoch 93/100\n",
      "3/3 [==============================] - 0s 71ms/step - loss: 0.2929 - precision_14: 1.0000 - recall_14: 0.7917 - val_loss: 0.5004 - val_precision_14: 0.1923 - val_recall_14: 0.4545\n",
      "Epoch 94/100\n",
      "3/3 [==============================] - 0s 71ms/step - loss: 0.3028 - precision_14: 1.0000 - recall_14: 0.7917 - val_loss: 0.4959 - val_precision_14: 0.2500 - val_recall_14: 0.6364\n",
      "Epoch 95/100\n",
      "3/3 [==============================] - 0s 72ms/step - loss: 0.2977 - precision_14: 1.0000 - recall_14: 0.8333 - val_loss: 0.5641 - val_precision_14: 0.2121 - val_recall_14: 0.6364\n",
      "Epoch 96/100\n",
      "3/3 [==============================] - 0s 73ms/step - loss: 0.2923 - precision_14: 1.0000 - recall_14: 0.8333 - val_loss: 0.5356 - val_precision_14: 0.2333 - val_recall_14: 0.6364\n",
      "Epoch 97/100\n",
      "3/3 [==============================] - 0s 72ms/step - loss: 0.2924 - precision_14: 1.0000 - recall_14: 0.8333 - val_loss: 0.6367 - val_precision_14: 0.2051 - val_recall_14: 0.7273\n",
      "Epoch 98/100\n",
      "3/3 [==============================] - 0s 70ms/step - loss: 0.3008 - precision_14: 1.0000 - recall_14: 0.8333 - val_loss: 0.6724 - val_precision_14: 0.2143 - val_recall_14: 0.8182\n",
      "Epoch 99/100\n",
      "3/3 [==============================] - 0s 71ms/step - loss: 0.2932 - precision_14: 0.9524 - recall_14: 0.8333 - val_loss: 0.6063 - val_precision_14: 0.2308 - val_recall_14: 0.8182\n",
      "Epoch 100/100\n",
      "3/3 [==============================] - 0s 71ms/step - loss: 0.2912 - precision_14: 1.0000 - recall_14: 0.8333 - val_loss: 0.5719 - val_precision_14: 0.2286 - val_recall_14: 0.7273\n"
     ]
    }
   ],
   "source": [
    "history = model.fit(treino, treino_true, epochs=100, batch_size=20, validation_data=(teste, teste_true))"
   ]
  },
  {
   "cell_type": "code",
   "execution_count": 105,
   "metadata": {},
   "outputs": [
    {
     "output_type": "display_data",
     "data": {
      "text/plain": "<Figure size 432x288 with 1 Axes>",
      "image/svg+xml": "<?xml version=\"1.0\" encoding=\"utf-8\" standalone=\"no\"?>\r\n<!DOCTYPE svg PUBLIC \"-//W3C//DTD SVG 1.1//EN\"\r\n  \"http://www.w3.org/Graphics/SVG/1.1/DTD/svg11.dtd\">\r\n<!-- Created with matplotlib (https://matplotlib.org/) -->\r\n<svg height=\"248.518125pt\" version=\"1.1\" viewBox=\"0 0 368.925 248.518125\" width=\"368.925pt\" xmlns=\"http://www.w3.org/2000/svg\" xmlns:xlink=\"http://www.w3.org/1999/xlink\">\r\n <metadata>\r\n  <rdf:RDF xmlns:cc=\"http://creativecommons.org/ns#\" xmlns:dc=\"http://purl.org/dc/elements/1.1/\" xmlns:rdf=\"http://www.w3.org/1999/02/22-rdf-syntax-ns#\">\r\n   <cc:Work>\r\n    <dc:type rdf:resource=\"http://purl.org/dc/dcmitype/StillImage\"/>\r\n    <dc:date>2021-04-11T21:21:29.157084</dc:date>\r\n    <dc:format>image/svg+xml</dc:format>\r\n    <dc:creator>\r\n     <cc:Agent>\r\n      <dc:title>Matplotlib v3.3.2, https://matplotlib.org/</dc:title>\r\n     </cc:Agent>\r\n    </dc:creator>\r\n   </cc:Work>\r\n  </rdf:RDF>\r\n </metadata>\r\n <defs>\r\n  <style type=\"text/css\">*{stroke-linecap:butt;stroke-linejoin:round;}</style>\r\n </defs>\r\n <g id=\"figure_1\">\r\n  <g id=\"patch_1\">\r\n   <path d=\"M -0 248.518125 \r\nL 368.925 248.518125 \r\nL 368.925 0 \r\nL -0 0 \r\nz\r\n\" style=\"fill:none;\"/>\r\n  </g>\r\n  <g id=\"axes_1\">\r\n   <g id=\"patch_2\">\r\n    <path d=\"M 26.925 224.64 \r\nL 361.725 224.64 \r\nL 361.725 7.2 \r\nL 26.925 7.2 \r\nz\r\n\" style=\"fill:#ffffff;\"/>\r\n   </g>\r\n   <g id=\"matplotlib.axis_1\">\r\n    <g id=\"xtick_1\">\r\n     <g id=\"line2d_1\">\r\n      <defs>\r\n       <path d=\"M 0 0 \r\nL 0 3.5 \r\n\" id=\"me35c8706b9\" style=\"stroke:#000000;stroke-width:0.8;\"/>\r\n      </defs>\r\n      <g>\r\n       <use style=\"stroke:#000000;stroke-width:0.8;\" x=\"42.143182\" xlink:href=\"#me35c8706b9\" y=\"224.64\"/>\r\n      </g>\r\n     </g>\r\n     <g id=\"text_1\">\r\n      <!-- 0 -->\r\n      <g transform=\"translate(38.961932 239.238438)scale(0.1 -0.1)\">\r\n       <defs>\r\n        <path d=\"M 31.78125 66.40625 \r\nQ 24.171875 66.40625 20.328125 58.90625 \r\nQ 16.5 51.421875 16.5 36.375 \r\nQ 16.5 21.390625 20.328125 13.890625 \r\nQ 24.171875 6.390625 31.78125 6.390625 \r\nQ 39.453125 6.390625 43.28125 13.890625 \r\nQ 47.125 21.390625 47.125 36.375 \r\nQ 47.125 51.421875 43.28125 58.90625 \r\nQ 39.453125 66.40625 31.78125 66.40625 \r\nz\r\nM 31.78125 74.21875 \r\nQ 44.046875 74.21875 50.515625 64.515625 \r\nQ 56.984375 54.828125 56.984375 36.375 \r\nQ 56.984375 17.96875 50.515625 8.265625 \r\nQ 44.046875 -1.421875 31.78125 -1.421875 \r\nQ 19.53125 -1.421875 13.0625 8.265625 \r\nQ 6.59375 17.96875 6.59375 36.375 \r\nQ 6.59375 54.828125 13.0625 64.515625 \r\nQ 19.53125 74.21875 31.78125 74.21875 \r\nz\r\n\" id=\"DejaVuSans-48\"/>\r\n       </defs>\r\n       <use xlink:href=\"#DejaVuSans-48\"/>\r\n      </g>\r\n     </g>\r\n    </g>\r\n    <g id=\"xtick_2\">\r\n     <g id=\"line2d_2\">\r\n      <g>\r\n       <use style=\"stroke:#000000;stroke-width:0.8;\" x=\"103.630785\" xlink:href=\"#me35c8706b9\" y=\"224.64\"/>\r\n      </g>\r\n     </g>\r\n     <g id=\"text_2\">\r\n      <!-- 20 -->\r\n      <g transform=\"translate(97.268285 239.238438)scale(0.1 -0.1)\">\r\n       <defs>\r\n        <path d=\"M 19.1875 8.296875 \r\nL 53.609375 8.296875 \r\nL 53.609375 0 \r\nL 7.328125 0 \r\nL 7.328125 8.296875 \r\nQ 12.9375 14.109375 22.625 23.890625 \r\nQ 32.328125 33.6875 34.8125 36.53125 \r\nQ 39.546875 41.84375 41.421875 45.53125 \r\nQ 43.3125 49.21875 43.3125 52.78125 \r\nQ 43.3125 58.59375 39.234375 62.25 \r\nQ 35.15625 65.921875 28.609375 65.921875 \r\nQ 23.96875 65.921875 18.8125 64.3125 \r\nQ 13.671875 62.703125 7.8125 59.421875 \r\nL 7.8125 69.390625 \r\nQ 13.765625 71.78125 18.9375 73 \r\nQ 24.125 74.21875 28.421875 74.21875 \r\nQ 39.75 74.21875 46.484375 68.546875 \r\nQ 53.21875 62.890625 53.21875 53.421875 \r\nQ 53.21875 48.921875 51.53125 44.890625 \r\nQ 49.859375 40.875 45.40625 35.40625 \r\nQ 44.1875 33.984375 37.640625 27.21875 \r\nQ 31.109375 20.453125 19.1875 8.296875 \r\nz\r\n\" id=\"DejaVuSans-50\"/>\r\n       </defs>\r\n       <use xlink:href=\"#DejaVuSans-50\"/>\r\n       <use x=\"63.623047\" xlink:href=\"#DejaVuSans-48\"/>\r\n      </g>\r\n     </g>\r\n    </g>\r\n    <g id=\"xtick_3\">\r\n     <g id=\"line2d_3\">\r\n      <g>\r\n       <use style=\"stroke:#000000;stroke-width:0.8;\" x=\"165.118388\" xlink:href=\"#me35c8706b9\" y=\"224.64\"/>\r\n      </g>\r\n     </g>\r\n     <g id=\"text_3\">\r\n      <!-- 40 -->\r\n      <g transform=\"translate(158.755888 239.238438)scale(0.1 -0.1)\">\r\n       <defs>\r\n        <path d=\"M 37.796875 64.3125 \r\nL 12.890625 25.390625 \r\nL 37.796875 25.390625 \r\nz\r\nM 35.203125 72.90625 \r\nL 47.609375 72.90625 \r\nL 47.609375 25.390625 \r\nL 58.015625 25.390625 \r\nL 58.015625 17.1875 \r\nL 47.609375 17.1875 \r\nL 47.609375 0 \r\nL 37.796875 0 \r\nL 37.796875 17.1875 \r\nL 4.890625 17.1875 \r\nL 4.890625 26.703125 \r\nz\r\n\" id=\"DejaVuSans-52\"/>\r\n       </defs>\r\n       <use xlink:href=\"#DejaVuSans-52\"/>\r\n       <use x=\"63.623047\" xlink:href=\"#DejaVuSans-48\"/>\r\n      </g>\r\n     </g>\r\n    </g>\r\n    <g id=\"xtick_4\">\r\n     <g id=\"line2d_4\">\r\n      <g>\r\n       <use style=\"stroke:#000000;stroke-width:0.8;\" x=\"226.605992\" xlink:href=\"#me35c8706b9\" y=\"224.64\"/>\r\n      </g>\r\n     </g>\r\n     <g id=\"text_4\">\r\n      <!-- 60 -->\r\n      <g transform=\"translate(220.243492 239.238438)scale(0.1 -0.1)\">\r\n       <defs>\r\n        <path d=\"M 33.015625 40.375 \r\nQ 26.375 40.375 22.484375 35.828125 \r\nQ 18.609375 31.296875 18.609375 23.390625 \r\nQ 18.609375 15.53125 22.484375 10.953125 \r\nQ 26.375 6.390625 33.015625 6.390625 \r\nQ 39.65625 6.390625 43.53125 10.953125 \r\nQ 47.40625 15.53125 47.40625 23.390625 \r\nQ 47.40625 31.296875 43.53125 35.828125 \r\nQ 39.65625 40.375 33.015625 40.375 \r\nz\r\nM 52.59375 71.296875 \r\nL 52.59375 62.3125 \r\nQ 48.875 64.0625 45.09375 64.984375 \r\nQ 41.3125 65.921875 37.59375 65.921875 \r\nQ 27.828125 65.921875 22.671875 59.328125 \r\nQ 17.53125 52.734375 16.796875 39.40625 \r\nQ 19.671875 43.65625 24.015625 45.921875 \r\nQ 28.375 48.1875 33.59375 48.1875 \r\nQ 44.578125 48.1875 50.953125 41.515625 \r\nQ 57.328125 34.859375 57.328125 23.390625 \r\nQ 57.328125 12.15625 50.6875 5.359375 \r\nQ 44.046875 -1.421875 33.015625 -1.421875 \r\nQ 20.359375 -1.421875 13.671875 8.265625 \r\nQ 6.984375 17.96875 6.984375 36.375 \r\nQ 6.984375 53.65625 15.1875 63.9375 \r\nQ 23.390625 74.21875 37.203125 74.21875 \r\nQ 40.921875 74.21875 44.703125 73.484375 \r\nQ 48.484375 72.75 52.59375 71.296875 \r\nz\r\n\" id=\"DejaVuSans-54\"/>\r\n       </defs>\r\n       <use xlink:href=\"#DejaVuSans-54\"/>\r\n       <use x=\"63.623047\" xlink:href=\"#DejaVuSans-48\"/>\r\n      </g>\r\n     </g>\r\n    </g>\r\n    <g id=\"xtick_5\">\r\n     <g id=\"line2d_5\">\r\n      <g>\r\n       <use style=\"stroke:#000000;stroke-width:0.8;\" x=\"288.093595\" xlink:href=\"#me35c8706b9\" y=\"224.64\"/>\r\n      </g>\r\n     </g>\r\n     <g id=\"text_5\">\r\n      <!-- 80 -->\r\n      <g transform=\"translate(281.731095 239.238438)scale(0.1 -0.1)\">\r\n       <defs>\r\n        <path d=\"M 31.78125 34.625 \r\nQ 24.75 34.625 20.71875 30.859375 \r\nQ 16.703125 27.09375 16.703125 20.515625 \r\nQ 16.703125 13.921875 20.71875 10.15625 \r\nQ 24.75 6.390625 31.78125 6.390625 \r\nQ 38.8125 6.390625 42.859375 10.171875 \r\nQ 46.921875 13.96875 46.921875 20.515625 \r\nQ 46.921875 27.09375 42.890625 30.859375 \r\nQ 38.875 34.625 31.78125 34.625 \r\nz\r\nM 21.921875 38.8125 \r\nQ 15.578125 40.375 12.03125 44.71875 \r\nQ 8.5 49.078125 8.5 55.328125 \r\nQ 8.5 64.0625 14.71875 69.140625 \r\nQ 20.953125 74.21875 31.78125 74.21875 \r\nQ 42.671875 74.21875 48.875 69.140625 \r\nQ 55.078125 64.0625 55.078125 55.328125 \r\nQ 55.078125 49.078125 51.53125 44.71875 \r\nQ 48 40.375 41.703125 38.8125 \r\nQ 48.828125 37.15625 52.796875 32.3125 \r\nQ 56.78125 27.484375 56.78125 20.515625 \r\nQ 56.78125 9.90625 50.3125 4.234375 \r\nQ 43.84375 -1.421875 31.78125 -1.421875 \r\nQ 19.734375 -1.421875 13.25 4.234375 \r\nQ 6.78125 9.90625 6.78125 20.515625 \r\nQ 6.78125 27.484375 10.78125 32.3125 \r\nQ 14.796875 37.15625 21.921875 38.8125 \r\nz\r\nM 18.3125 54.390625 \r\nQ 18.3125 48.734375 21.84375 45.5625 \r\nQ 25.390625 42.390625 31.78125 42.390625 \r\nQ 38.140625 42.390625 41.71875 45.5625 \r\nQ 45.3125 48.734375 45.3125 54.390625 \r\nQ 45.3125 60.0625 41.71875 63.234375 \r\nQ 38.140625 66.40625 31.78125 66.40625 \r\nQ 25.390625 66.40625 21.84375 63.234375 \r\nQ 18.3125 60.0625 18.3125 54.390625 \r\nz\r\n\" id=\"DejaVuSans-56\"/>\r\n       </defs>\r\n       <use xlink:href=\"#DejaVuSans-56\"/>\r\n       <use x=\"63.623047\" xlink:href=\"#DejaVuSans-48\"/>\r\n      </g>\r\n     </g>\r\n    </g>\r\n    <g id=\"xtick_6\">\r\n     <g id=\"line2d_6\">\r\n      <g>\r\n       <use style=\"stroke:#000000;stroke-width:0.8;\" x=\"349.581198\" xlink:href=\"#me35c8706b9\" y=\"224.64\"/>\r\n      </g>\r\n     </g>\r\n     <g id=\"text_6\">\r\n      <!-- 100 -->\r\n      <g transform=\"translate(340.037448 239.238438)scale(0.1 -0.1)\">\r\n       <defs>\r\n        <path d=\"M 12.40625 8.296875 \r\nL 28.515625 8.296875 \r\nL 28.515625 63.921875 \r\nL 10.984375 60.40625 \r\nL 10.984375 69.390625 \r\nL 28.421875 72.90625 \r\nL 38.28125 72.90625 \r\nL 38.28125 8.296875 \r\nL 54.390625 8.296875 \r\nL 54.390625 0 \r\nL 12.40625 0 \r\nz\r\n\" id=\"DejaVuSans-49\"/>\r\n       </defs>\r\n       <use xlink:href=\"#DejaVuSans-49\"/>\r\n       <use x=\"63.623047\" xlink:href=\"#DejaVuSans-48\"/>\r\n       <use x=\"127.246094\" xlink:href=\"#DejaVuSans-48\"/>\r\n      </g>\r\n     </g>\r\n    </g>\r\n   </g>\r\n   <g id=\"matplotlib.axis_2\">\r\n    <g id=\"ytick_1\">\r\n     <g id=\"line2d_7\">\r\n      <defs>\r\n       <path d=\"M 0 0 \r\nL -3.5 0 \r\n\" id=\"m4c56317571\" style=\"stroke:#000000;stroke-width:0.8;\"/>\r\n      </defs>\r\n      <g>\r\n       <use style=\"stroke:#000000;stroke-width:0.8;\" x=\"26.925\" xlink:href=\"#m4c56317571\" y=\"220.42167\"/>\r\n      </g>\r\n     </g>\r\n     <g id=\"text_7\">\r\n      <!-- 0 -->\r\n      <g transform=\"translate(13.5625 224.220889)scale(0.1 -0.1)\">\r\n       <use xlink:href=\"#DejaVuSans-48\"/>\r\n      </g>\r\n     </g>\r\n    </g>\r\n    <g id=\"ytick_2\">\r\n     <g id=\"line2d_8\">\r\n      <g>\r\n       <use style=\"stroke:#000000;stroke-width:0.8;\" x=\"26.925\" xlink:href=\"#m4c56317571\" y=\"181.517857\"/>\r\n      </g>\r\n     </g>\r\n     <g id=\"text_8\">\r\n      <!-- 2 -->\r\n      <g transform=\"translate(13.5625 185.317076)scale(0.1 -0.1)\">\r\n       <use xlink:href=\"#DejaVuSans-50\"/>\r\n      </g>\r\n     </g>\r\n    </g>\r\n    <g id=\"ytick_3\">\r\n     <g id=\"line2d_9\">\r\n      <g>\r\n       <use style=\"stroke:#000000;stroke-width:0.8;\" x=\"26.925\" xlink:href=\"#m4c56317571\" y=\"142.614044\"/>\r\n      </g>\r\n     </g>\r\n     <g id=\"text_9\">\r\n      <!-- 4 -->\r\n      <g transform=\"translate(13.5625 146.413263)scale(0.1 -0.1)\">\r\n       <use xlink:href=\"#DejaVuSans-52\"/>\r\n      </g>\r\n     </g>\r\n    </g>\r\n    <g id=\"ytick_4\">\r\n     <g id=\"line2d_10\">\r\n      <g>\r\n       <use style=\"stroke:#000000;stroke-width:0.8;\" x=\"26.925\" xlink:href=\"#m4c56317571\" y=\"103.710231\"/>\r\n      </g>\r\n     </g>\r\n     <g id=\"text_10\">\r\n      <!-- 6 -->\r\n      <g transform=\"translate(13.5625 107.50945)scale(0.1 -0.1)\">\r\n       <use xlink:href=\"#DejaVuSans-54\"/>\r\n      </g>\r\n     </g>\r\n    </g>\r\n    <g id=\"ytick_5\">\r\n     <g id=\"line2d_11\">\r\n      <g>\r\n       <use style=\"stroke:#000000;stroke-width:0.8;\" x=\"26.925\" xlink:href=\"#m4c56317571\" y=\"64.806418\"/>\r\n      </g>\r\n     </g>\r\n     <g id=\"text_11\">\r\n      <!-- 8 -->\r\n      <g transform=\"translate(13.5625 68.605637)scale(0.1 -0.1)\">\r\n       <use xlink:href=\"#DejaVuSans-56\"/>\r\n      </g>\r\n     </g>\r\n    </g>\r\n    <g id=\"ytick_6\">\r\n     <g id=\"line2d_12\">\r\n      <g>\r\n       <use style=\"stroke:#000000;stroke-width:0.8;\" x=\"26.925\" xlink:href=\"#m4c56317571\" y=\"25.902605\"/>\r\n      </g>\r\n     </g>\r\n     <g id=\"text_12\">\r\n      <!-- 10 -->\r\n      <g transform=\"translate(7.2 29.701823)scale(0.1 -0.1)\">\r\n       <use xlink:href=\"#DejaVuSans-49\"/>\r\n       <use x=\"63.623047\" xlink:href=\"#DejaVuSans-48\"/>\r\n      </g>\r\n     </g>\r\n    </g>\r\n   </g>\r\n   <g id=\"line2d_13\">\r\n    <path clip-path=\"url(#pfcddbfd4de)\" d=\"M 42.143182 17.083636 \r\nL 45.217562 35.027568 \r\nL 48.291942 51.553571 \r\nL 51.366322 66.576654 \r\nL 54.440702 80.230281 \r\nL 57.515083 92.63404 \r\nL 60.589463 104.057233 \r\nL 63.663843 114.262742 \r\nL 66.738223 123.564838 \r\nL 69.812603 131.993016 \r\nL 72.886983 139.636411 \r\nL 75.961364 146.502738 \r\nL 79.035744 152.647778 \r\nL 82.110124 158.286043 \r\nL 85.184504 163.372135 \r\nL 88.258884 167.904736 \r\nL 91.333264 171.945634 \r\nL 94.407645 175.692164 \r\nL 97.482025 179.111195 \r\nL 100.556405 182.142979 \r\nL 103.630785 184.759813 \r\nL 106.705165 187.307174 \r\nL 109.779545 189.47091 \r\nL 112.853926 191.252008 \r\nL 115.928306 193.130397 \r\nL 119.002686 194.810713 \r\nL 122.077066 196.324028 \r\nL 125.151446 197.595759 \r\nL 128.225826 199.024204 \r\nL 131.300207 200.185267 \r\nL 134.374587 201.152675 \r\nL 137.448967 202.061288 \r\nL 140.523347 202.845291 \r\nL 143.597727 203.621417 \r\nL 146.672107 204.550306 \r\nL 149.746488 204.91999 \r\nL 152.820868 205.605877 \r\nL 155.895248 206.315296 \r\nL 158.969628 206.652452 \r\nL 162.044008 207.13787 \r\nL 165.118388 207.310501 \r\nL 168.192769 207.615275 \r\nL 171.267149 208.269437 \r\nL 174.341529 208.633144 \r\nL 177.415909 208.869785 \r\nL 180.490289 209.37679 \r\nL 183.564669 209.552823 \r\nL 186.63905 209.801628 \r\nL 189.71343 210.160405 \r\nL 192.78781 210.34535 \r\nL 195.86219 210.673184 \r\nL 198.93657 210.729628 \r\nL 202.01095 210.865278 \r\nL 205.085331 210.94727 \r\nL 208.159711 211.230875 \r\nL 211.234091 211.526968 \r\nL 214.308471 211.576132 \r\nL 217.382851 211.645907 \r\nL 220.457231 211.834793 \r\nL 223.531612 211.722914 \r\nL 226.605992 212.487927 \r\nL 229.680372 212.052987 \r\nL 232.754752 212.134808 \r\nL 235.829132 212.500392 \r\nL 238.903512 212.792471 \r\nL 241.977893 212.518249 \r\nL 245.052273 210.954967 \r\nL 248.126653 211.664911 \r\nL 251.201033 211.640886 \r\nL 254.275413 211.471965 \r\nL 257.349793 211.648546 \r\nL 260.424174 212.18026 \r\nL 263.498554 212.62462 \r\nL 266.572934 212.66921 \r\nL 269.647314 212.774561 \r\nL 272.721694 213.178786 \r\nL 275.796074 213.305527 \r\nL 278.870455 213.398191 \r\nL 281.944835 213.701927 \r\nL 285.019215 213.719978 \r\nL 288.093595 213.90333 \r\nL 291.167975 213.796086 \r\nL 294.242355 213.828091 \r\nL 297.316736 214.302809 \r\nL 300.391116 214.143965 \r\nL 303.465496 214.257035 \r\nL 306.539876 214.339413 \r\nL 309.614256 214.231225 \r\nL 312.688636 214.102207 \r\nL 315.763017 214.362063 \r\nL 318.837397 214.409508 \r\nL 321.911777 214.639337 \r\nL 324.986157 214.724199 \r\nL 328.060537 214.532503 \r\nL 331.134917 214.631475 \r\nL 334.209298 214.736824 \r\nL 337.283678 214.734517 \r\nL 340.358058 214.569933 \r\nL 343.432438 214.71813 \r\nL 346.506818 214.756364 \r\n\" style=\"fill:none;stroke:#1f77b4;stroke-linecap:square;stroke-width:1.5;\"/>\r\n   </g>\r\n   <g id=\"line2d_14\">\r\n    <path clip-path=\"url(#pfcddbfd4de)\" d=\"M 42.143182 30.040376 \r\nL 45.217562 46.858312 \r\nL 48.291942 62.244202 \r\nL 51.366322 75.455254 \r\nL 54.440702 88.080055 \r\nL 57.515083 99.960181 \r\nL 60.589463 110.37281 \r\nL 63.663843 119.407774 \r\nL 66.738223 127.774447 \r\nL 69.812603 135.264316 \r\nL 72.886983 142.023146 \r\nL 75.961364 147.82181 \r\nL 79.035744 153.232717 \r\nL 82.110124 158.736108 \r\nL 85.184504 164.07136 \r\nL 88.258884 168.716597 \r\nL 91.333264 172.606112 \r\nL 94.407645 175.359521 \r\nL 97.482025 178.037257 \r\nL 100.556405 180.034003 \r\nL 103.630785 182.40375 \r\nL 106.705165 185.058854 \r\nL 109.779545 186.303697 \r\nL 112.853926 188.334602 \r\nL 115.928306 191.245649 \r\nL 119.002686 193.359351 \r\nL 122.077066 195.085356 \r\nL 125.151446 196.06214 \r\nL 128.225826 196.305373 \r\nL 131.300207 196.249895 \r\nL 134.374587 196.753688 \r\nL 137.448967 197.391536 \r\nL 140.523347 199.348592 \r\nL 143.597727 200.403441 \r\nL 146.672107 199.713025 \r\nL 149.746488 200.81221 \r\nL 152.820868 200.579615 \r\nL 155.895248 201.682134 \r\nL 158.969628 203.061386 \r\nL 162.044008 203.79872 \r\nL 165.118388 204.45812 \r\nL 168.192769 202.938925 \r\nL 171.267149 203.560409 \r\nL 174.341529 204.268601 \r\nL 177.415909 205.091916 \r\nL 180.490289 204.715058 \r\nL 183.564669 204.031689 \r\nL 186.63905 205.259204 \r\nL 189.71343 205.992751 \r\nL 192.78781 206.337941 \r\nL 195.86219 206.711519 \r\nL 198.93657 205.571076 \r\nL 202.01095 205.566583 \r\nL 205.085331 206.16558 \r\nL 208.159711 206.23416 \r\nL 211.234091 207.627804 \r\nL 214.308471 206.785319 \r\nL 217.382851 206.749963 \r\nL 220.457231 207.762502 \r\nL 223.531612 207.750034 \r\nL 226.605992 206.07111 \r\nL 229.680372 208.000955 \r\nL 232.754752 207.995016 \r\nL 235.829132 207.988849 \r\nL 238.903512 209.189661 \r\nL 241.977893 201.376027 \r\nL 245.052273 202.961769 \r\nL 248.126653 208.169927 \r\nL 251.201033 209.486133 \r\nL 254.275413 209.524086 \r\nL 257.349793 208.361535 \r\nL 260.424174 207.059741 \r\nL 263.498554 204.817649 \r\nL 266.572934 204.799399 \r\nL 269.647314 207.035301 \r\nL 272.721694 208.648965 \r\nL 275.796074 208.486123 \r\nL 278.870455 207.578907 \r\nL 281.944835 207.761362 \r\nL 285.019215 207.083904 \r\nL 288.093595 206.391658 \r\nL 291.167975 208.029605 \r\nL 294.242355 208.245421 \r\nL 297.316736 207.983209 \r\nL 300.391116 207.969362 \r\nL 303.465496 209.181871 \r\nL 306.539876 209.810642 \r\nL 309.614256 211.213851 \r\nL 312.688636 210.242443 \r\nL 315.763017 208.161686 \r\nL 318.837397 209.41004 \r\nL 321.911777 209.350686 \r\nL 324.986157 210.688792 \r\nL 328.060537 210.774696 \r\nL 331.134917 209.449657 \r\nL 334.209298 210.003366 \r\nL 337.283678 208.037143 \r\nL 340.358058 207.342205 \r\nL 343.432438 208.627182 \r\nL 346.506818 209.297121 \r\n\" style=\"fill:none;stroke:#ff7f0e;stroke-linecap:square;stroke-width:1.5;\"/>\r\n   </g>\r\n   <g id=\"patch_3\">\r\n    <path d=\"M 26.925 224.64 \r\nL 26.925 7.2 \r\n\" style=\"fill:none;stroke:#000000;stroke-linecap:square;stroke-linejoin:miter;stroke-width:0.8;\"/>\r\n   </g>\r\n   <g id=\"patch_4\">\r\n    <path d=\"M 361.725 224.64 \r\nL 361.725 7.2 \r\n\" style=\"fill:none;stroke:#000000;stroke-linecap:square;stroke-linejoin:miter;stroke-width:0.8;\"/>\r\n   </g>\r\n   <g id=\"patch_5\">\r\n    <path d=\"M 26.925 224.64 \r\nL 361.725 224.64 \r\n\" style=\"fill:none;stroke:#000000;stroke-linecap:square;stroke-linejoin:miter;stroke-width:0.8;\"/>\r\n   </g>\r\n   <g id=\"patch_6\">\r\n    <path d=\"M 26.925 7.2 \r\nL 361.725 7.2 \r\n\" style=\"fill:none;stroke:#000000;stroke-linecap:square;stroke-linejoin:miter;stroke-width:0.8;\"/>\r\n   </g>\r\n   <g id=\"legend_1\">\r\n    <g id=\"patch_7\">\r\n     <path d=\"M 248.23125 44.55625 \r\nL 354.725 44.55625 \r\nQ 356.725 44.55625 356.725 42.55625 \r\nL 356.725 14.2 \r\nQ 356.725 12.2 354.725 12.2 \r\nL 248.23125 12.2 \r\nQ 246.23125 12.2 246.23125 14.2 \r\nL 246.23125 42.55625 \r\nQ 246.23125 44.55625 248.23125 44.55625 \r\nz\r\n\" style=\"fill:#ffffff;opacity:0.8;stroke:#cccccc;stroke-linejoin:miter;\"/>\r\n    </g>\r\n    <g id=\"line2d_15\">\r\n     <path d=\"M 250.23125 20.298438 \r\nL 270.23125 20.298438 \r\n\" style=\"fill:none;stroke:#1f77b4;stroke-linecap:square;stroke-width:1.5;\"/>\r\n    </g>\r\n    <g id=\"line2d_16\"/>\r\n    <g id=\"text_13\">\r\n     <!-- Training Loss -->\r\n     <g transform=\"translate(278.23125 23.798438)scale(0.1 -0.1)\">\r\n      <defs>\r\n       <path d=\"M -0.296875 72.90625 \r\nL 61.375 72.90625 \r\nL 61.375 64.59375 \r\nL 35.5 64.59375 \r\nL 35.5 0 \r\nL 25.59375 0 \r\nL 25.59375 64.59375 \r\nL -0.296875 64.59375 \r\nz\r\n\" id=\"DejaVuSans-84\"/>\r\n       <path d=\"M 41.109375 46.296875 \r\nQ 39.59375 47.171875 37.8125 47.578125 \r\nQ 36.03125 48 33.890625 48 \r\nQ 26.265625 48 22.1875 43.046875 \r\nQ 18.109375 38.09375 18.109375 28.8125 \r\nL 18.109375 0 \r\nL 9.078125 0 \r\nL 9.078125 54.6875 \r\nL 18.109375 54.6875 \r\nL 18.109375 46.1875 \r\nQ 20.953125 51.171875 25.484375 53.578125 \r\nQ 30.03125 56 36.53125 56 \r\nQ 37.453125 56 38.578125 55.875 \r\nQ 39.703125 55.765625 41.0625 55.515625 \r\nz\r\n\" id=\"DejaVuSans-114\"/>\r\n       <path d=\"M 34.28125 27.484375 \r\nQ 23.390625 27.484375 19.1875 25 \r\nQ 14.984375 22.515625 14.984375 16.5 \r\nQ 14.984375 11.71875 18.140625 8.90625 \r\nQ 21.296875 6.109375 26.703125 6.109375 \r\nQ 34.1875 6.109375 38.703125 11.40625 \r\nQ 43.21875 16.703125 43.21875 25.484375 \r\nL 43.21875 27.484375 \r\nz\r\nM 52.203125 31.203125 \r\nL 52.203125 0 \r\nL 43.21875 0 \r\nL 43.21875 8.296875 \r\nQ 40.140625 3.328125 35.546875 0.953125 \r\nQ 30.953125 -1.421875 24.3125 -1.421875 \r\nQ 15.921875 -1.421875 10.953125 3.296875 \r\nQ 6 8.015625 6 15.921875 \r\nQ 6 25.140625 12.171875 29.828125 \r\nQ 18.359375 34.515625 30.609375 34.515625 \r\nL 43.21875 34.515625 \r\nL 43.21875 35.40625 \r\nQ 43.21875 41.609375 39.140625 45 \r\nQ 35.0625 48.390625 27.6875 48.390625 \r\nQ 23 48.390625 18.546875 47.265625 \r\nQ 14.109375 46.140625 10.015625 43.890625 \r\nL 10.015625 52.203125 \r\nQ 14.9375 54.109375 19.578125 55.046875 \r\nQ 24.21875 56 28.609375 56 \r\nQ 40.484375 56 46.34375 49.84375 \r\nQ 52.203125 43.703125 52.203125 31.203125 \r\nz\r\n\" id=\"DejaVuSans-97\"/>\r\n       <path d=\"M 9.421875 54.6875 \r\nL 18.40625 54.6875 \r\nL 18.40625 0 \r\nL 9.421875 0 \r\nz\r\nM 9.421875 75.984375 \r\nL 18.40625 75.984375 \r\nL 18.40625 64.59375 \r\nL 9.421875 64.59375 \r\nz\r\n\" id=\"DejaVuSans-105\"/>\r\n       <path d=\"M 54.890625 33.015625 \r\nL 54.890625 0 \r\nL 45.90625 0 \r\nL 45.90625 32.71875 \r\nQ 45.90625 40.484375 42.875 44.328125 \r\nQ 39.84375 48.1875 33.796875 48.1875 \r\nQ 26.515625 48.1875 22.3125 43.546875 \r\nQ 18.109375 38.921875 18.109375 30.90625 \r\nL 18.109375 0 \r\nL 9.078125 0 \r\nL 9.078125 54.6875 \r\nL 18.109375 54.6875 \r\nL 18.109375 46.1875 \r\nQ 21.34375 51.125 25.703125 53.5625 \r\nQ 30.078125 56 35.796875 56 \r\nQ 45.21875 56 50.046875 50.171875 \r\nQ 54.890625 44.34375 54.890625 33.015625 \r\nz\r\n\" id=\"DejaVuSans-110\"/>\r\n       <path d=\"M 45.40625 27.984375 \r\nQ 45.40625 37.75 41.375 43.109375 \r\nQ 37.359375 48.484375 30.078125 48.484375 \r\nQ 22.859375 48.484375 18.828125 43.109375 \r\nQ 14.796875 37.75 14.796875 27.984375 \r\nQ 14.796875 18.265625 18.828125 12.890625 \r\nQ 22.859375 7.515625 30.078125 7.515625 \r\nQ 37.359375 7.515625 41.375 12.890625 \r\nQ 45.40625 18.265625 45.40625 27.984375 \r\nz\r\nM 54.390625 6.78125 \r\nQ 54.390625 -7.171875 48.1875 -13.984375 \r\nQ 42 -20.796875 29.203125 -20.796875 \r\nQ 24.46875 -20.796875 20.265625 -20.09375 \r\nQ 16.0625 -19.390625 12.109375 -17.921875 \r\nL 12.109375 -9.1875 \r\nQ 16.0625 -11.328125 19.921875 -12.34375 \r\nQ 23.78125 -13.375 27.78125 -13.375 \r\nQ 36.625 -13.375 41.015625 -8.765625 \r\nQ 45.40625 -4.15625 45.40625 5.171875 \r\nL 45.40625 9.625 \r\nQ 42.625 4.78125 38.28125 2.390625 \r\nQ 33.9375 0 27.875 0 \r\nQ 17.828125 0 11.671875 7.65625 \r\nQ 5.515625 15.328125 5.515625 27.984375 \r\nQ 5.515625 40.671875 11.671875 48.328125 \r\nQ 17.828125 56 27.875 56 \r\nQ 33.9375 56 38.28125 53.609375 \r\nQ 42.625 51.21875 45.40625 46.390625 \r\nL 45.40625 54.6875 \r\nL 54.390625 54.6875 \r\nz\r\n\" id=\"DejaVuSans-103\"/>\r\n       <path id=\"DejaVuSans-32\"/>\r\n       <path d=\"M 9.8125 72.90625 \r\nL 19.671875 72.90625 \r\nL 19.671875 8.296875 \r\nL 55.171875 8.296875 \r\nL 55.171875 0 \r\nL 9.8125 0 \r\nz\r\n\" id=\"DejaVuSans-76\"/>\r\n       <path d=\"M 30.609375 48.390625 \r\nQ 23.390625 48.390625 19.1875 42.75 \r\nQ 14.984375 37.109375 14.984375 27.296875 \r\nQ 14.984375 17.484375 19.15625 11.84375 \r\nQ 23.34375 6.203125 30.609375 6.203125 \r\nQ 37.796875 6.203125 41.984375 11.859375 \r\nQ 46.1875 17.53125 46.1875 27.296875 \r\nQ 46.1875 37.015625 41.984375 42.703125 \r\nQ 37.796875 48.390625 30.609375 48.390625 \r\nz\r\nM 30.609375 56 \r\nQ 42.328125 56 49.015625 48.375 \r\nQ 55.71875 40.765625 55.71875 27.296875 \r\nQ 55.71875 13.875 49.015625 6.21875 \r\nQ 42.328125 -1.421875 30.609375 -1.421875 \r\nQ 18.84375 -1.421875 12.171875 6.21875 \r\nQ 5.515625 13.875 5.515625 27.296875 \r\nQ 5.515625 40.765625 12.171875 48.375 \r\nQ 18.84375 56 30.609375 56 \r\nz\r\n\" id=\"DejaVuSans-111\"/>\r\n       <path d=\"M 44.28125 53.078125 \r\nL 44.28125 44.578125 \r\nQ 40.484375 46.53125 36.375 47.5 \r\nQ 32.28125 48.484375 27.875 48.484375 \r\nQ 21.1875 48.484375 17.84375 46.4375 \r\nQ 14.5 44.390625 14.5 40.28125 \r\nQ 14.5 37.15625 16.890625 35.375 \r\nQ 19.28125 33.59375 26.515625 31.984375 \r\nL 29.59375 31.296875 \r\nQ 39.15625 29.25 43.1875 25.515625 \r\nQ 47.21875 21.78125 47.21875 15.09375 \r\nQ 47.21875 7.46875 41.1875 3.015625 \r\nQ 35.15625 -1.421875 24.609375 -1.421875 \r\nQ 20.21875 -1.421875 15.453125 -0.5625 \r\nQ 10.6875 0.296875 5.421875 2 \r\nL 5.421875 11.28125 \r\nQ 10.40625 8.6875 15.234375 7.390625 \r\nQ 20.0625 6.109375 24.8125 6.109375 \r\nQ 31.15625 6.109375 34.5625 8.28125 \r\nQ 37.984375 10.453125 37.984375 14.40625 \r\nQ 37.984375 18.0625 35.515625 20.015625 \r\nQ 33.0625 21.96875 24.703125 23.78125 \r\nL 21.578125 24.515625 \r\nQ 13.234375 26.265625 9.515625 29.90625 \r\nQ 5.8125 33.546875 5.8125 39.890625 \r\nQ 5.8125 47.609375 11.28125 51.796875 \r\nQ 16.75 56 26.8125 56 \r\nQ 31.78125 56 36.171875 55.265625 \r\nQ 40.578125 54.546875 44.28125 53.078125 \r\nz\r\n\" id=\"DejaVuSans-115\"/>\r\n      </defs>\r\n      <use xlink:href=\"#DejaVuSans-84\"/>\r\n      <use x=\"46.333984\" xlink:href=\"#DejaVuSans-114\"/>\r\n      <use x=\"87.447266\" xlink:href=\"#DejaVuSans-97\"/>\r\n      <use x=\"148.726562\" xlink:href=\"#DejaVuSans-105\"/>\r\n      <use x=\"176.509766\" xlink:href=\"#DejaVuSans-110\"/>\r\n      <use x=\"239.888672\" xlink:href=\"#DejaVuSans-105\"/>\r\n      <use x=\"267.671875\" xlink:href=\"#DejaVuSans-110\"/>\r\n      <use x=\"331.050781\" xlink:href=\"#DejaVuSans-103\"/>\r\n      <use x=\"394.527344\" xlink:href=\"#DejaVuSans-32\"/>\r\n      <use x=\"426.314453\" xlink:href=\"#DejaVuSans-76\"/>\r\n      <use x=\"480.277344\" xlink:href=\"#DejaVuSans-111\"/>\r\n      <use x=\"541.458984\" xlink:href=\"#DejaVuSans-115\"/>\r\n      <use x=\"593.558594\" xlink:href=\"#DejaVuSans-115\"/>\r\n     </g>\r\n    </g>\r\n    <g id=\"line2d_17\">\r\n     <path d=\"M 250.23125 34.976562 \r\nL 270.23125 34.976562 \r\n\" style=\"fill:none;stroke:#ff7f0e;stroke-linecap:square;stroke-width:1.5;\"/>\r\n    </g>\r\n    <g id=\"line2d_18\"/>\r\n    <g id=\"text_14\">\r\n     <!-- Validation Loss -->\r\n     <g transform=\"translate(278.23125 38.476562)scale(0.1 -0.1)\">\r\n      <defs>\r\n       <path d=\"M 28.609375 0 \r\nL 0.78125 72.90625 \r\nL 11.078125 72.90625 \r\nL 34.1875 11.53125 \r\nL 57.328125 72.90625 \r\nL 67.578125 72.90625 \r\nL 39.796875 0 \r\nz\r\n\" id=\"DejaVuSans-86\"/>\r\n       <path d=\"M 9.421875 75.984375 \r\nL 18.40625 75.984375 \r\nL 18.40625 0 \r\nL 9.421875 0 \r\nz\r\n\" id=\"DejaVuSans-108\"/>\r\n       <path d=\"M 45.40625 46.390625 \r\nL 45.40625 75.984375 \r\nL 54.390625 75.984375 \r\nL 54.390625 0 \r\nL 45.40625 0 \r\nL 45.40625 8.203125 \r\nQ 42.578125 3.328125 38.25 0.953125 \r\nQ 33.9375 -1.421875 27.875 -1.421875 \r\nQ 17.96875 -1.421875 11.734375 6.484375 \r\nQ 5.515625 14.40625 5.515625 27.296875 \r\nQ 5.515625 40.1875 11.734375 48.09375 \r\nQ 17.96875 56 27.875 56 \r\nQ 33.9375 56 38.25 53.625 \r\nQ 42.578125 51.265625 45.40625 46.390625 \r\nz\r\nM 14.796875 27.296875 \r\nQ 14.796875 17.390625 18.875 11.75 \r\nQ 22.953125 6.109375 30.078125 6.109375 \r\nQ 37.203125 6.109375 41.296875 11.75 \r\nQ 45.40625 17.390625 45.40625 27.296875 \r\nQ 45.40625 37.203125 41.296875 42.84375 \r\nQ 37.203125 48.484375 30.078125 48.484375 \r\nQ 22.953125 48.484375 18.875 42.84375 \r\nQ 14.796875 37.203125 14.796875 27.296875 \r\nz\r\n\" id=\"DejaVuSans-100\"/>\r\n       <path d=\"M 18.3125 70.21875 \r\nL 18.3125 54.6875 \r\nL 36.8125 54.6875 \r\nL 36.8125 47.703125 \r\nL 18.3125 47.703125 \r\nL 18.3125 18.015625 \r\nQ 18.3125 11.328125 20.140625 9.421875 \r\nQ 21.96875 7.515625 27.59375 7.515625 \r\nL 36.8125 7.515625 \r\nL 36.8125 0 \r\nL 27.59375 0 \r\nQ 17.1875 0 13.234375 3.875 \r\nQ 9.28125 7.765625 9.28125 18.015625 \r\nL 9.28125 47.703125 \r\nL 2.6875 47.703125 \r\nL 2.6875 54.6875 \r\nL 9.28125 54.6875 \r\nL 9.28125 70.21875 \r\nz\r\n\" id=\"DejaVuSans-116\"/>\r\n      </defs>\r\n      <use xlink:href=\"#DejaVuSans-86\"/>\r\n      <use x=\"60.658203\" xlink:href=\"#DejaVuSans-97\"/>\r\n      <use x=\"121.9375\" xlink:href=\"#DejaVuSans-108\"/>\r\n      <use x=\"149.720703\" xlink:href=\"#DejaVuSans-105\"/>\r\n      <use x=\"177.503906\" xlink:href=\"#DejaVuSans-100\"/>\r\n      <use x=\"240.980469\" xlink:href=\"#DejaVuSans-97\"/>\r\n      <use x=\"302.259766\" xlink:href=\"#DejaVuSans-116\"/>\r\n      <use x=\"341.46875\" xlink:href=\"#DejaVuSans-105\"/>\r\n      <use x=\"369.251953\" xlink:href=\"#DejaVuSans-111\"/>\r\n      <use x=\"430.433594\" xlink:href=\"#DejaVuSans-110\"/>\r\n      <use x=\"493.8125\" xlink:href=\"#DejaVuSans-32\"/>\r\n      <use x=\"525.599609\" xlink:href=\"#DejaVuSans-76\"/>\r\n      <use x=\"579.5625\" xlink:href=\"#DejaVuSans-111\"/>\r\n      <use x=\"640.744141\" xlink:href=\"#DejaVuSans-115\"/>\r\n      <use x=\"692.84375\" xlink:href=\"#DejaVuSans-115\"/>\r\n     </g>\r\n    </g>\r\n   </g>\r\n  </g>\r\n </g>\r\n <defs>\r\n  <clipPath id=\"pfcddbfd4de\">\r\n   <rect height=\"217.44\" width=\"334.8\" x=\"26.925\" y=\"7.2\"/>\r\n  </clipPath>\r\n </defs>\r\n</svg>\r\n",
      "image/png": "[encoded data removed]"
     },
     "metadata": {
      "needs_background": "light"
     }
    }
   ],
   "source": [
    "plt.plot(history.history[\"loss\"], label=\"Training Loss\")\n",
    "plt.plot(history.history[\"val_loss\"], label=\"Validation Loss\")\n",
    "plt.legend()\n",
    "plt.show()"
   ]
  },
  {
   "cell_type": "code",
   "execution_count": 106,
   "metadata": {},
   "outputs": [],
   "source": [
    "treino_pred = (model.predict(treino) > 0.5).astype(\"int32\")"
   ]
  },
  {
   "cell_type": "code",
   "execution_count": 107,
   "metadata": {},
   "outputs": [
    {
     "output_type": "stream",
     "name": "stdout",
     "text": [
      "Precisão: 1.0\nRecall: 0.83\nf1: 0.91\n"
     ]
    }
   ],
   "source": [
    "metrics = precision_recall_fscore_support(treino_true, treino_pred, pos_label=1, average='binary')\n",
    "print('Precisão:', round(metrics[0], 2))\n",
    "print('Recall:', round(metrics[1], 2))\n",
    "print('f1:', round(metrics[2], 2))"
   ]
  },
  {
   "source": [
    "### Teste"
   ],
   "cell_type": "markdown",
   "metadata": {}
  },
  {
   "cell_type": "code",
   "execution_count": 108,
   "metadata": {},
   "outputs": [],
   "source": [
    "teste_pred = (model.predict(teste) > 0.5).astype(\"int32\")"
   ]
  },
  {
   "cell_type": "code",
   "execution_count": 109,
   "metadata": {},
   "outputs": [
    {
     "output_type": "stream",
     "name": "stdout",
     "text": [
      "Precisão: 0.23\nRecall: 0.73\nf1: 0.35\n"
     ]
    }
   ],
   "source": [
    "metrics = precision_recall_fscore_support(teste_true, teste_pred, pos_label=1, average='binary')\n",
    "print('Precisão:', round(metrics[0], 2))\n",
    "print('Recall:', round(metrics[1], 2))\n",
    "print('f1:', round(metrics[2], 2))"
   ]
  },
  {
   "cell_type": "code",
   "execution_count": 110,
   "metadata": {},
   "outputs": [
    {
     "output_type": "stream",
     "name": "stdout",
     "text": [
      "[[113  27]\n [  3   8]]\n"
     ]
    }
   ],
   "source": [
    "cf_matrix = confusion_matrix(teste_true, teste_pred)\n",
    "print(cf_matrix)"
   ]
  },
  {
   "cell_type": "code",
   "execution_count": 111,
   "metadata": {},
   "outputs": [
    {
     "output_type": "execute_result",
     "data": {
      "text/plain": [
       "<AxesSubplot:>"
      ]
     },
     "metadata": {},
     "execution_count": 111
    },
    {
     "output_type": "display_data",
     "data": {
      "text/plain": "<Figure size 432x288 with 2 Axes>",
      "image/svg+xml": "<?xml version=\"1.0\" encoding=\"utf-8\" standalone=\"no\"?>\r\n<!DOCTYPE svg PUBLIC \"-//W3C//DTD SVG 1.1//EN\"\r\n  \"http://www.w3.org/Graphics/SVG/1.1/DTD/svg11.dtd\">\r\n<!-- Created with matplotlib (https://matplotlib.org/) -->\r\n<svg height=\"249.788972pt\" version=\"1.1\" viewBox=\"0 0 349.43325 249.788972\" width=\"349.43325pt\" xmlns=\"http://www.w3.org/2000/svg\" xmlns:xlink=\"http://www.w3.org/1999/xlink\">\r\n <metadata>\r\n  <rdf:RDF xmlns:cc=\"http://creativecommons.org/ns#\" xmlns:dc=\"http://purl.org/dc/elements/1.1/\" xmlns:rdf=\"http://www.w3.org/1999/02/22-rdf-syntax-ns#\">\r\n   <cc:Work>\r\n    <dc:type rdf:resource=\"http://purl.org/dc/dcmitype/StillImage\"/>\r\n    <dc:date>2021-04-11T21:21:43.595027</dc:date>\r\n    <dc:format>image/svg+xml</dc:format>\r\n    <dc:creator>\r\n     <cc:Agent>\r\n      <dc:title>Matplotlib v3.3.2, https://matplotlib.org/</dc:title>\r\n     </cc:Agent>\r\n    </dc:creator>\r\n   </cc:Work>\r\n  </rdf:RDF>\r\n </metadata>\r\n <defs>\r\n  <style type=\"text/css\">*{stroke-linecap:butt;stroke-linejoin:round;}</style>\r\n </defs>\r\n <g id=\"figure_1\">\r\n  <g id=\"patch_1\">\r\n   <path d=\"M -0 249.788972 \r\nL 349.43325 249.788972 \r\nL 349.43325 0 \r\nL -0 0 \r\nz\r\n\" style=\"fill:none;\"/>\r\n  </g>\r\n  <g id=\"axes_1\">\r\n   <g id=\"patch_2\">\r\n    <path d=\"M 23.878125 225.910847 \r\nL 291.718125 225.910847 \r\nL 291.718125 8.470847 \r\nL 23.878125 8.470847 \r\nz\r\n\" style=\"fill:#ffffff;\"/>\r\n   </g>\r\n   <g id=\"QuadMesh_1\">\r\n    <path clip-path=\"url(#pb2aedad647)\" d=\"M 23.878125 8.470847 \r\nL 157.798125 8.470847 \r\nL 157.798125 117.190847 \r\nL 23.878125 117.190847 \r\nL 23.878125 8.470847 \r\n\" style=\"fill:#00441b;\"/>\r\n    <path clip-path=\"url(#pb2aedad647)\" d=\"M 157.798125 8.470847 \r\nL 291.718125 8.470847 \r\nL 291.718125 117.190847 \r\nL 157.798125 117.190847 \r\nL 157.798125 8.470847 \r\n\" style=\"fill:#f7fcf5;\"/>\r\n    <path clip-path=\"url(#pb2aedad647)\" d=\"M 23.878125 117.190847 \r\nL 157.798125 117.190847 \r\nL 157.798125 225.910847 \r\nL 23.878125 225.910847 \r\nL 23.878125 117.190847 \r\n\" style=\"fill:#e4f5df;\"/>\r\n    <path clip-path=\"url(#pb2aedad647)\" d=\"M 157.798125 117.190847 \r\nL 291.718125 117.190847 \r\nL 291.718125 225.910847 \r\nL 157.798125 225.910847 \r\nL 157.798125 117.190847 \r\n\" style=\"fill:#016e2d;\"/>\r\n   </g>\r\n   <g id=\"matplotlib.axis_1\">\r\n    <g id=\"xtick_1\">\r\n     <g id=\"line2d_1\">\r\n      <defs>\r\n       <path d=\"M 0 0 \r\nL 0 3.5 \r\n\" id=\"m540fc173cd\" style=\"stroke:#000000;stroke-width:0.8;\"/>\r\n      </defs>\r\n      <g>\r\n       <use style=\"stroke:#000000;stroke-width:0.8;\" x=\"90.838125\" xlink:href=\"#m540fc173cd\" y=\"225.910847\"/>\r\n      </g>\r\n     </g>\r\n     <g id=\"text_1\">\r\n      <!-- 0 -->\r\n      <g transform=\"translate(87.656875 240.509284)scale(0.1 -0.1)\">\r\n       <defs>\r\n        <path d=\"M 31.78125 66.40625 \r\nQ 24.171875 66.40625 20.328125 58.90625 \r\nQ 16.5 51.421875 16.5 36.375 \r\nQ 16.5 21.390625 20.328125 13.890625 \r\nQ 24.171875 6.390625 31.78125 6.390625 \r\nQ 39.453125 6.390625 43.28125 13.890625 \r\nQ 47.125 21.390625 47.125 36.375 \r\nQ 47.125 51.421875 43.28125 58.90625 \r\nQ 39.453125 66.40625 31.78125 66.40625 \r\nz\r\nM 31.78125 74.21875 \r\nQ 44.046875 74.21875 50.515625 64.515625 \r\nQ 56.984375 54.828125 56.984375 36.375 \r\nQ 56.984375 17.96875 50.515625 8.265625 \r\nQ 44.046875 -1.421875 31.78125 -1.421875 \r\nQ 19.53125 -1.421875 13.0625 8.265625 \r\nQ 6.59375 17.96875 6.59375 36.375 \r\nQ 6.59375 54.828125 13.0625 64.515625 \r\nQ 19.53125 74.21875 31.78125 74.21875 \r\nz\r\n\" id=\"DejaVuSans-48\"/>\r\n       </defs>\r\n       <use xlink:href=\"#DejaVuSans-48\"/>\r\n      </g>\r\n     </g>\r\n    </g>\r\n    <g id=\"xtick_2\">\r\n     <g id=\"line2d_2\">\r\n      <g>\r\n       <use style=\"stroke:#000000;stroke-width:0.8;\" x=\"224.758125\" xlink:href=\"#m540fc173cd\" y=\"225.910847\"/>\r\n      </g>\r\n     </g>\r\n     <g id=\"text_2\">\r\n      <!-- 1 -->\r\n      <g transform=\"translate(221.576875 240.509284)scale(0.1 -0.1)\">\r\n       <defs>\r\n        <path d=\"M 12.40625 8.296875 \r\nL 28.515625 8.296875 \r\nL 28.515625 63.921875 \r\nL 10.984375 60.40625 \r\nL 10.984375 69.390625 \r\nL 28.421875 72.90625 \r\nL 38.28125 72.90625 \r\nL 38.28125 8.296875 \r\nL 54.390625 8.296875 \r\nL 54.390625 0 \r\nL 12.40625 0 \r\nz\r\n\" id=\"DejaVuSans-49\"/>\r\n       </defs>\r\n       <use xlink:href=\"#DejaVuSans-49\"/>\r\n      </g>\r\n     </g>\r\n    </g>\r\n   </g>\r\n   <g id=\"matplotlib.axis_2\">\r\n    <g id=\"ytick_1\">\r\n     <g id=\"line2d_3\">\r\n      <defs>\r\n       <path d=\"M 0 0 \r\nL -3.5 0 \r\n\" id=\"m1dea2df82b\" style=\"stroke:#000000;stroke-width:0.8;\"/>\r\n      </defs>\r\n      <g>\r\n       <use style=\"stroke:#000000;stroke-width:0.8;\" x=\"23.878125\" xlink:href=\"#m1dea2df82b\" y=\"62.830847\"/>\r\n      </g>\r\n     </g>\r\n     <g id=\"text_3\">\r\n      <!-- 0 -->\r\n      <g transform=\"translate(14.798438 65.394128)rotate(-90)scale(0.1 -0.1)\">\r\n       <use xlink:href=\"#DejaVuSans-48\"/>\r\n      </g>\r\n     </g>\r\n    </g>\r\n    <g id=\"ytick_2\">\r\n     <g id=\"line2d_4\">\r\n      <g>\r\n       <use style=\"stroke:#000000;stroke-width:0.8;\" x=\"23.878125\" xlink:href=\"#m1dea2df82b\" y=\"171.550847\"/>\r\n      </g>\r\n     </g>\r\n     <g id=\"text_4\">\r\n      <!-- 1 -->\r\n      <g transform=\"translate(14.798438 174.114128)rotate(-90)scale(0.1 -0.1)\">\r\n       <use xlink:href=\"#DejaVuSans-49\"/>\r\n      </g>\r\n     </g>\r\n    </g>\r\n   </g>\r\n   <g id=\"text_5\">\r\n    <!-- 80.71% -->\r\n    <g style=\"fill:#ffffff;\" transform=\"translate(71.773281 65.590222)scale(0.1 -0.1)\">\r\n     <defs>\r\n      <path d=\"M 31.78125 34.625 \r\nQ 24.75 34.625 20.71875 30.859375 \r\nQ 16.703125 27.09375 16.703125 20.515625 \r\nQ 16.703125 13.921875 20.71875 10.15625 \r\nQ 24.75 6.390625 31.78125 6.390625 \r\nQ 38.8125 6.390625 42.859375 10.171875 \r\nQ 46.921875 13.96875 46.921875 20.515625 \r\nQ 46.921875 27.09375 42.890625 30.859375 \r\nQ 38.875 34.625 31.78125 34.625 \r\nz\r\nM 21.921875 38.8125 \r\nQ 15.578125 40.375 12.03125 44.71875 \r\nQ 8.5 49.078125 8.5 55.328125 \r\nQ 8.5 64.0625 14.71875 69.140625 \r\nQ 20.953125 74.21875 31.78125 74.21875 \r\nQ 42.671875 74.21875 48.875 69.140625 \r\nQ 55.078125 64.0625 55.078125 55.328125 \r\nQ 55.078125 49.078125 51.53125 44.71875 \r\nQ 48 40.375 41.703125 38.8125 \r\nQ 48.828125 37.15625 52.796875 32.3125 \r\nQ 56.78125 27.484375 56.78125 20.515625 \r\nQ 56.78125 9.90625 50.3125 4.234375 \r\nQ 43.84375 -1.421875 31.78125 -1.421875 \r\nQ 19.734375 -1.421875 13.25 4.234375 \r\nQ 6.78125 9.90625 6.78125 20.515625 \r\nQ 6.78125 27.484375 10.78125 32.3125 \r\nQ 14.796875 37.15625 21.921875 38.8125 \r\nz\r\nM 18.3125 54.390625 \r\nQ 18.3125 48.734375 21.84375 45.5625 \r\nQ 25.390625 42.390625 31.78125 42.390625 \r\nQ 38.140625 42.390625 41.71875 45.5625 \r\nQ 45.3125 48.734375 45.3125 54.390625 \r\nQ 45.3125 60.0625 41.71875 63.234375 \r\nQ 38.140625 66.40625 31.78125 66.40625 \r\nQ 25.390625 66.40625 21.84375 63.234375 \r\nQ 18.3125 60.0625 18.3125 54.390625 \r\nz\r\n\" id=\"DejaVuSans-56\"/>\r\n      <path d=\"M 10.6875 12.40625 \r\nL 21 12.40625 \r\nL 21 0 \r\nL 10.6875 0 \r\nz\r\n\" id=\"DejaVuSans-46\"/>\r\n      <path d=\"M 8.203125 72.90625 \r\nL 55.078125 72.90625 \r\nL 55.078125 68.703125 \r\nL 28.609375 0 \r\nL 18.3125 0 \r\nL 43.21875 64.59375 \r\nL 8.203125 64.59375 \r\nz\r\n\" id=\"DejaVuSans-55\"/>\r\n      <path d=\"M 72.703125 32.078125 \r\nQ 68.453125 32.078125 66.03125 28.46875 \r\nQ 63.625 24.859375 63.625 18.40625 \r\nQ 63.625 12.0625 66.03125 8.421875 \r\nQ 68.453125 4.78125 72.703125 4.78125 \r\nQ 76.859375 4.78125 79.265625 8.421875 \r\nQ 81.6875 12.0625 81.6875 18.40625 \r\nQ 81.6875 24.8125 79.265625 28.4375 \r\nQ 76.859375 32.078125 72.703125 32.078125 \r\nz\r\nM 72.703125 38.28125 \r\nQ 80.421875 38.28125 84.953125 32.90625 \r\nQ 89.5 27.546875 89.5 18.40625 \r\nQ 89.5 9.28125 84.9375 3.921875 \r\nQ 80.375 -1.421875 72.703125 -1.421875 \r\nQ 64.890625 -1.421875 60.34375 3.921875 \r\nQ 55.8125 9.28125 55.8125 18.40625 \r\nQ 55.8125 27.59375 60.375 32.9375 \r\nQ 64.9375 38.28125 72.703125 38.28125 \r\nz\r\nM 22.3125 68.015625 \r\nQ 18.109375 68.015625 15.6875 64.375 \r\nQ 13.28125 60.75 13.28125 54.390625 \r\nQ 13.28125 47.953125 15.671875 44.328125 \r\nQ 18.0625 40.71875 22.3125 40.71875 \r\nQ 26.5625 40.71875 28.96875 44.328125 \r\nQ 31.390625 47.953125 31.390625 54.390625 \r\nQ 31.390625 60.6875 28.953125 64.34375 \r\nQ 26.515625 68.015625 22.3125 68.015625 \r\nz\r\nM 66.40625 74.21875 \r\nL 74.21875 74.21875 \r\nL 28.609375 -1.421875 \r\nL 20.796875 -1.421875 \r\nz\r\nM 22.3125 74.21875 \r\nQ 30.03125 74.21875 34.609375 68.875 \r\nQ 39.203125 63.53125 39.203125 54.390625 \r\nQ 39.203125 45.171875 34.640625 39.84375 \r\nQ 30.078125 34.515625 22.3125 34.515625 \r\nQ 14.546875 34.515625 10.03125 39.859375 \r\nQ 5.515625 45.21875 5.515625 54.390625 \r\nQ 5.515625 63.484375 10.046875 68.84375 \r\nQ 14.59375 74.21875 22.3125 74.21875 \r\nz\r\n\" id=\"DejaVuSans-37\"/>\r\n     </defs>\r\n     <use xlink:href=\"#DejaVuSans-56\"/>\r\n     <use x=\"63.623047\" xlink:href=\"#DejaVuSans-48\"/>\r\n     <use x=\"127.246094\" xlink:href=\"#DejaVuSans-46\"/>\r\n     <use x=\"159.033203\" xlink:href=\"#DejaVuSans-55\"/>\r\n     <use x=\"222.65625\" xlink:href=\"#DejaVuSans-49\"/>\r\n     <use x=\"286.279297\" xlink:href=\"#DejaVuSans-37\"/>\r\n    </g>\r\n   </g>\r\n   <g id=\"text_6\">\r\n    <!-- 19.29% -->\r\n    <g style=\"fill:#262626;\" transform=\"translate(205.693281 65.590222)scale(0.1 -0.1)\">\r\n     <defs>\r\n      <path d=\"M 10.984375 1.515625 \r\nL 10.984375 10.5 \r\nQ 14.703125 8.734375 18.5 7.8125 \r\nQ 22.3125 6.890625 25.984375 6.890625 \r\nQ 35.75 6.890625 40.890625 13.453125 \r\nQ 46.046875 20.015625 46.78125 33.40625 \r\nQ 43.953125 29.203125 39.59375 26.953125 \r\nQ 35.25 24.703125 29.984375 24.703125 \r\nQ 19.046875 24.703125 12.671875 31.3125 \r\nQ 6.296875 37.9375 6.296875 49.421875 \r\nQ 6.296875 60.640625 12.9375 67.421875 \r\nQ 19.578125 74.21875 30.609375 74.21875 \r\nQ 43.265625 74.21875 49.921875 64.515625 \r\nQ 56.59375 54.828125 56.59375 36.375 \r\nQ 56.59375 19.140625 48.40625 8.859375 \r\nQ 40.234375 -1.421875 26.421875 -1.421875 \r\nQ 22.703125 -1.421875 18.890625 -0.6875 \r\nQ 15.09375 0.046875 10.984375 1.515625 \r\nz\r\nM 30.609375 32.421875 \r\nQ 37.25 32.421875 41.125 36.953125 \r\nQ 45.015625 41.5 45.015625 49.421875 \r\nQ 45.015625 57.28125 41.125 61.84375 \r\nQ 37.25 66.40625 30.609375 66.40625 \r\nQ 23.96875 66.40625 20.09375 61.84375 \r\nQ 16.21875 57.28125 16.21875 49.421875 \r\nQ 16.21875 41.5 20.09375 36.953125 \r\nQ 23.96875 32.421875 30.609375 32.421875 \r\nz\r\n\" id=\"DejaVuSans-57\"/>\r\n      <path d=\"M 19.1875 8.296875 \r\nL 53.609375 8.296875 \r\nL 53.609375 0 \r\nL 7.328125 0 \r\nL 7.328125 8.296875 \r\nQ 12.9375 14.109375 22.625 23.890625 \r\nQ 32.328125 33.6875 34.8125 36.53125 \r\nQ 39.546875 41.84375 41.421875 45.53125 \r\nQ 43.3125 49.21875 43.3125 52.78125 \r\nQ 43.3125 58.59375 39.234375 62.25 \r\nQ 35.15625 65.921875 28.609375 65.921875 \r\nQ 23.96875 65.921875 18.8125 64.3125 \r\nQ 13.671875 62.703125 7.8125 59.421875 \r\nL 7.8125 69.390625 \r\nQ 13.765625 71.78125 18.9375 73 \r\nQ 24.125 74.21875 28.421875 74.21875 \r\nQ 39.75 74.21875 46.484375 68.546875 \r\nQ 53.21875 62.890625 53.21875 53.421875 \r\nQ 53.21875 48.921875 51.53125 44.890625 \r\nQ 49.859375 40.875 45.40625 35.40625 \r\nQ 44.1875 33.984375 37.640625 27.21875 \r\nQ 31.109375 20.453125 19.1875 8.296875 \r\nz\r\n\" id=\"DejaVuSans-50\"/>\r\n     </defs>\r\n     <use xlink:href=\"#DejaVuSans-49\"/>\r\n     <use x=\"63.623047\" xlink:href=\"#DejaVuSans-57\"/>\r\n     <use x=\"127.246094\" xlink:href=\"#DejaVuSans-46\"/>\r\n     <use x=\"159.033203\" xlink:href=\"#DejaVuSans-50\"/>\r\n     <use x=\"222.65625\" xlink:href=\"#DejaVuSans-57\"/>\r\n     <use x=\"286.279297\" xlink:href=\"#DejaVuSans-37\"/>\r\n    </g>\r\n   </g>\r\n   <g id=\"text_7\">\r\n    <!-- 27.27% -->\r\n    <g style=\"fill:#262626;\" transform=\"translate(71.773281 174.310222)scale(0.1 -0.1)\">\r\n     <use xlink:href=\"#DejaVuSans-50\"/>\r\n     <use x=\"63.623047\" xlink:href=\"#DejaVuSans-55\"/>\r\n     <use x=\"127.246094\" xlink:href=\"#DejaVuSans-46\"/>\r\n     <use x=\"159.033203\" xlink:href=\"#DejaVuSans-50\"/>\r\n     <use x=\"222.65625\" xlink:href=\"#DejaVuSans-55\"/>\r\n     <use x=\"286.279297\" xlink:href=\"#DejaVuSans-37\"/>\r\n    </g>\r\n   </g>\r\n   <g id=\"text_8\">\r\n    <!-- 72.73% -->\r\n    <g style=\"fill:#ffffff;\" transform=\"translate(205.693281 174.310222)scale(0.1 -0.1)\">\r\n     <defs>\r\n      <path d=\"M 40.578125 39.3125 \r\nQ 47.65625 37.796875 51.625 33 \r\nQ 55.609375 28.21875 55.609375 21.1875 \r\nQ 55.609375 10.40625 48.1875 4.484375 \r\nQ 40.765625 -1.421875 27.09375 -1.421875 \r\nQ 22.515625 -1.421875 17.65625 -0.515625 \r\nQ 12.796875 0.390625 7.625 2.203125 \r\nL 7.625 11.71875 \r\nQ 11.71875 9.328125 16.59375 8.109375 \r\nQ 21.484375 6.890625 26.8125 6.890625 \r\nQ 36.078125 6.890625 40.9375 10.546875 \r\nQ 45.796875 14.203125 45.796875 21.1875 \r\nQ 45.796875 27.640625 41.28125 31.265625 \r\nQ 36.765625 34.90625 28.71875 34.90625 \r\nL 20.21875 34.90625 \r\nL 20.21875 43.015625 \r\nL 29.109375 43.015625 \r\nQ 36.375 43.015625 40.234375 45.921875 \r\nQ 44.09375 48.828125 44.09375 54.296875 \r\nQ 44.09375 59.90625 40.109375 62.90625 \r\nQ 36.140625 65.921875 28.71875 65.921875 \r\nQ 24.65625 65.921875 20.015625 65.03125 \r\nQ 15.375 64.15625 9.8125 62.3125 \r\nL 9.8125 71.09375 \r\nQ 15.4375 72.65625 20.34375 73.4375 \r\nQ 25.25 74.21875 29.59375 74.21875 \r\nQ 40.828125 74.21875 47.359375 69.109375 \r\nQ 53.90625 64.015625 53.90625 55.328125 \r\nQ 53.90625 49.265625 50.4375 45.09375 \r\nQ 46.96875 40.921875 40.578125 39.3125 \r\nz\r\n\" id=\"DejaVuSans-51\"/>\r\n     </defs>\r\n     <use xlink:href=\"#DejaVuSans-55\"/>\r\n     <use x=\"63.623047\" xlink:href=\"#DejaVuSans-50\"/>\r\n     <use x=\"127.246094\" xlink:href=\"#DejaVuSans-46\"/>\r\n     <use x=\"159.033203\" xlink:href=\"#DejaVuSans-55\"/>\r\n     <use x=\"222.65625\" xlink:href=\"#DejaVuSans-51\"/>\r\n     <use x=\"286.279297\" xlink:href=\"#DejaVuSans-37\"/>\r\n    </g>\r\n   </g>\r\n  </g>\r\n  <g id=\"axes_2\">\r\n   <g id=\"patch_3\">\r\n    <path clip-path=\"url(#p5a5deafddd)\" d=\"M 308.458125 225.910847 \r\nL 308.458125 225.061472 \r\nL 308.458125 9.320222 \r\nL 308.458125 8.470847 \r\nL 319.330125 8.470847 \r\nL 319.330125 9.320222 \r\nL 319.330125 225.061472 \r\nL 319.330125 225.910847 \r\nz\r\n\" style=\"fill:#ffffff;stroke:#ffffff;stroke-linejoin:miter;stroke-width:0.01;\"/>\r\n   </g>\r\n   <image height=\"217\" id=\"imaged7f9f3a772\" transform=\"scale(1 -1)translate(0 -217)\" width=\"11\" x=\"308\" xlink:href=\"data:image/png;base64,\r\niVBORw0KGgoAAAANSUhEUgAAAAsAAADZCAYAAAD2WsoCAAABLUlEQVR4nN2YMQ7DMAwD1cL/f23RKbbzBd1wAG3PhECRlKDk839+u5rv2wVWVY2924VrVAHwRmBCow81OVOdF6EBKrMGz9MZcYamRHCm0vVfSjZ2kfAzGl6DFnixVZCROlJ5hdidkY0Qu0PyXBmcPenmngk0zDwjMFFD3EhaZa1BpLOZDTDdE+26lAZRZU2NlPBH2G2GH3BGNFLs1miIaiC7M27RmPBbeU5RQ5wU0uAiOrehKmcYpP6DamRw9sL/EDVCOMNlrjnohb8NxbuOhd+iwT6lGbiNrbFQ+DUa4gnBGmxjTc6izrfbDbMRQcOT7sjwaxfjvN3u67PBTghkt/eHKiMbyG54BLaxpnRF7GZg0iC668DXP66cQQNJ55kiZuNEzhqNkEnxHLQm5QXxwgfY6AcmzwAAAABJRU5ErkJggg==\" y=\"-8\"/>\r\n   <g id=\"matplotlib.axis_3\"/>\r\n   <g id=\"matplotlib.axis_4\">\r\n    <g id=\"ytick_3\">\r\n     <g id=\"line2d_5\">\r\n      <defs>\r\n       <path d=\"M 0 0 \r\nL 3.5 0 \r\n\" id=\"m58a544ce3e\" style=\"stroke:#000000;stroke-width:0.8;\"/>\r\n      </defs>\r\n      <g>\r\n       <use style=\"stroke:#000000;stroke-width:0.8;\" x=\"319.330125\" xlink:href=\"#m58a544ce3e\" y=\"223.382475\"/>\r\n      </g>\r\n     </g>\r\n     <g id=\"text_9\">\r\n      <!-- 0.2 -->\r\n      <g transform=\"translate(326.330125 227.181693)scale(0.1 -0.1)\">\r\n       <use xlink:href=\"#DejaVuSans-48\"/>\r\n       <use x=\"63.623047\" xlink:href=\"#DejaVuSans-46\"/>\r\n       <use x=\"95.410156\" xlink:href=\"#DejaVuSans-50\"/>\r\n      </g>\r\n     </g>\r\n    </g>\r\n    <g id=\"ytick_4\">\r\n     <g id=\"line2d_6\">\r\n      <g>\r\n       <use style=\"stroke:#000000;stroke-width:0.8;\" x=\"319.330125\" xlink:href=\"#m58a544ce3e\" y=\"187.985265\"/>\r\n      </g>\r\n     </g>\r\n     <g id=\"text_10\">\r\n      <!-- 0.3 -->\r\n      <g transform=\"translate(326.330125 191.784484)scale(0.1 -0.1)\">\r\n       <use xlink:href=\"#DejaVuSans-48\"/>\r\n       <use x=\"63.623047\" xlink:href=\"#DejaVuSans-46\"/>\r\n       <use x=\"95.410156\" xlink:href=\"#DejaVuSans-51\"/>\r\n      </g>\r\n     </g>\r\n    </g>\r\n    <g id=\"ytick_5\">\r\n     <g id=\"line2d_7\">\r\n      <g>\r\n       <use style=\"stroke:#000000;stroke-width:0.8;\" x=\"319.330125\" xlink:href=\"#m58a544ce3e\" y=\"152.588056\"/>\r\n      </g>\r\n     </g>\r\n     <g id=\"text_11\">\r\n      <!-- 0.4 -->\r\n      <g transform=\"translate(326.330125 156.387275)scale(0.1 -0.1)\">\r\n       <defs>\r\n        <path d=\"M 37.796875 64.3125 \r\nL 12.890625 25.390625 \r\nL 37.796875 25.390625 \r\nz\r\nM 35.203125 72.90625 \r\nL 47.609375 72.90625 \r\nL 47.609375 25.390625 \r\nL 58.015625 25.390625 \r\nL 58.015625 17.1875 \r\nL 47.609375 17.1875 \r\nL 47.609375 0 \r\nL 37.796875 0 \r\nL 37.796875 17.1875 \r\nL 4.890625 17.1875 \r\nL 4.890625 26.703125 \r\nz\r\n\" id=\"DejaVuSans-52\"/>\r\n       </defs>\r\n       <use xlink:href=\"#DejaVuSans-48\"/>\r\n       <use x=\"63.623047\" xlink:href=\"#DejaVuSans-46\"/>\r\n       <use x=\"95.410156\" xlink:href=\"#DejaVuSans-52\"/>\r\n      </g>\r\n     </g>\r\n    </g>\r\n    <g id=\"ytick_6\">\r\n     <g id=\"line2d_8\">\r\n      <g>\r\n       <use style=\"stroke:#000000;stroke-width:0.8;\" x=\"319.330125\" xlink:href=\"#m58a544ce3e\" y=\"117.190847\"/>\r\n      </g>\r\n     </g>\r\n     <g id=\"text_12\">\r\n      <!-- 0.5 -->\r\n      <g transform=\"translate(326.330125 120.990065)scale(0.1 -0.1)\">\r\n       <defs>\r\n        <path d=\"M 10.796875 72.90625 \r\nL 49.515625 72.90625 \r\nL 49.515625 64.59375 \r\nL 19.828125 64.59375 \r\nL 19.828125 46.734375 \r\nQ 21.96875 47.46875 24.109375 47.828125 \r\nQ 26.265625 48.1875 28.421875 48.1875 \r\nQ 40.625 48.1875 47.75 41.5 \r\nQ 54.890625 34.8125 54.890625 23.390625 \r\nQ 54.890625 11.625 47.5625 5.09375 \r\nQ 40.234375 -1.421875 26.90625 -1.421875 \r\nQ 22.3125 -1.421875 17.546875 -0.640625 \r\nQ 12.796875 0.140625 7.71875 1.703125 \r\nL 7.71875 11.625 \r\nQ 12.109375 9.234375 16.796875 8.0625 \r\nQ 21.484375 6.890625 26.703125 6.890625 \r\nQ 35.15625 6.890625 40.078125 11.328125 \r\nQ 45.015625 15.765625 45.015625 23.390625 \r\nQ 45.015625 31 40.078125 35.4375 \r\nQ 35.15625 39.890625 26.703125 39.890625 \r\nQ 22.75 39.890625 18.8125 39.015625 \r\nQ 14.890625 38.140625 10.796875 36.28125 \r\nz\r\n\" id=\"DejaVuSans-53\"/>\r\n       </defs>\r\n       <use xlink:href=\"#DejaVuSans-48\"/>\r\n       <use x=\"63.623047\" xlink:href=\"#DejaVuSans-46\"/>\r\n       <use x=\"95.410156\" xlink:href=\"#DejaVuSans-53\"/>\r\n      </g>\r\n     </g>\r\n    </g>\r\n    <g id=\"ytick_7\">\r\n     <g id=\"line2d_9\">\r\n      <g>\r\n       <use style=\"stroke:#000000;stroke-width:0.8;\" x=\"319.330125\" xlink:href=\"#m58a544ce3e\" y=\"81.793637\"/>\r\n      </g>\r\n     </g>\r\n     <g id=\"text_13\">\r\n      <!-- 0.6 -->\r\n      <g transform=\"translate(326.330125 85.592856)scale(0.1 -0.1)\">\r\n       <defs>\r\n        <path d=\"M 33.015625 40.375 \r\nQ 26.375 40.375 22.484375 35.828125 \r\nQ 18.609375 31.296875 18.609375 23.390625 \r\nQ 18.609375 15.53125 22.484375 10.953125 \r\nQ 26.375 6.390625 33.015625 6.390625 \r\nQ 39.65625 6.390625 43.53125 10.953125 \r\nQ 47.40625 15.53125 47.40625 23.390625 \r\nQ 47.40625 31.296875 43.53125 35.828125 \r\nQ 39.65625 40.375 33.015625 40.375 \r\nz\r\nM 52.59375 71.296875 \r\nL 52.59375 62.3125 \r\nQ 48.875 64.0625 45.09375 64.984375 \r\nQ 41.3125 65.921875 37.59375 65.921875 \r\nQ 27.828125 65.921875 22.671875 59.328125 \r\nQ 17.53125 52.734375 16.796875 39.40625 \r\nQ 19.671875 43.65625 24.015625 45.921875 \r\nQ 28.375 48.1875 33.59375 48.1875 \r\nQ 44.578125 48.1875 50.953125 41.515625 \r\nQ 57.328125 34.859375 57.328125 23.390625 \r\nQ 57.328125 12.15625 50.6875 5.359375 \r\nQ 44.046875 -1.421875 33.015625 -1.421875 \r\nQ 20.359375 -1.421875 13.671875 8.265625 \r\nQ 6.984375 17.96875 6.984375 36.375 \r\nQ 6.984375 53.65625 15.1875 63.9375 \r\nQ 23.390625 74.21875 37.203125 74.21875 \r\nQ 40.921875 74.21875 44.703125 73.484375 \r\nQ 48.484375 72.75 52.59375 71.296875 \r\nz\r\n\" id=\"DejaVuSans-54\"/>\r\n       </defs>\r\n       <use xlink:href=\"#DejaVuSans-48\"/>\r\n       <use x=\"63.623047\" xlink:href=\"#DejaVuSans-46\"/>\r\n       <use x=\"95.410156\" xlink:href=\"#DejaVuSans-54\"/>\r\n      </g>\r\n     </g>\r\n    </g>\r\n    <g id=\"ytick_8\">\r\n     <g id=\"line2d_10\">\r\n      <g>\r\n       <use style=\"stroke:#000000;stroke-width:0.8;\" x=\"319.330125\" xlink:href=\"#m58a544ce3e\" y=\"46.396428\"/>\r\n      </g>\r\n     </g>\r\n     <g id=\"text_14\">\r\n      <!-- 0.7 -->\r\n      <g transform=\"translate(326.330125 50.195647)scale(0.1 -0.1)\">\r\n       <use xlink:href=\"#DejaVuSans-48\"/>\r\n       <use x=\"63.623047\" xlink:href=\"#DejaVuSans-46\"/>\r\n       <use x=\"95.410156\" xlink:href=\"#DejaVuSans-55\"/>\r\n      </g>\r\n     </g>\r\n    </g>\r\n    <g id=\"ytick_9\">\r\n     <g id=\"line2d_11\">\r\n      <g>\r\n       <use style=\"stroke:#000000;stroke-width:0.8;\" x=\"319.330125\" xlink:href=\"#m58a544ce3e\" y=\"10.999219\"/>\r\n      </g>\r\n     </g>\r\n     <g id=\"text_15\">\r\n      <!-- 0.8 -->\r\n      <g transform=\"translate(326.330125 14.798438)scale(0.1 -0.1)\">\r\n       <use xlink:href=\"#DejaVuSans-48\"/>\r\n       <use x=\"63.623047\" xlink:href=\"#DejaVuSans-46\"/>\r\n       <use x=\"95.410156\" xlink:href=\"#DejaVuSans-56\"/>\r\n      </g>\r\n     </g>\r\n    </g>\r\n   </g>\r\n   <g id=\"patch_4\">\r\n    <path d=\"M 308.458125 225.910847 \r\nL 308.458125 225.061472 \r\nL 308.458125 9.320222 \r\nL 308.458125 8.470847 \r\nL 319.330125 8.470847 \r\nL 319.330125 9.320222 \r\nL 319.330125 225.061472 \r\nL 319.330125 225.910847 \r\nz\r\n\" style=\"fill:none;\"/>\r\n   </g>\r\n  </g>\r\n </g>\r\n <defs>\r\n  <clipPath id=\"pb2aedad647\">\r\n   <rect height=\"217.44\" width=\"267.84\" x=\"23.878125\" y=\"8.470847\"/>\r\n  </clipPath>\r\n  <clipPath id=\"p5a5deafddd\">\r\n   <rect height=\"217.44\" width=\"10.872\" x=\"308.458125\" y=\"8.470847\"/>\r\n  </clipPath>\r\n </defs>\r\n</svg>\r\n",
      "image/png": "[encoded data removed]"
     },
     "metadata": {
      "needs_background": "light"
     }
    }
   ],
   "source": [
    "sns.heatmap(cf_matrix/cf_matrix.sum(axis=1)[:, np.newaxis], annot=True, fmt='.2%', cmap='Greens')"
   ]
  },
  {
   "cell_type": "code",
   "execution_count": 112,
   "metadata": {},
   "outputs": [
    {
     "output_type": "stream",
     "name": "stdout",
     "text": [
      "                  precision    recall  f1-score   support\n\n          Normal       0.97      0.81      0.88       140\nDescarga Parcial       0.23      0.73      0.35        11\n\n        accuracy                           0.80       151\n       macro avg       0.60      0.77      0.62       151\n    weighted avg       0.92      0.80      0.84       151\n\n"
     ]
    }
   ],
   "source": [
    "print(classification_report(teste_true, teste_pred, target_names=['Normal', 'Descarga Parcial']))"
   ]
  },
  {
   "cell_type": "code",
   "execution_count": null,
   "metadata": {},
   "outputs": [],
   "source": []
  }
 ]
}