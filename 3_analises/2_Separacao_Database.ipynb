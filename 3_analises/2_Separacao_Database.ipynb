{
 "metadata": {
  "language_info": {
   "codemirror_mode": {
    "name": "ipython",
    "version": 3
   },
   "file_extension": ".py",
   "mimetype": "text/x-python",
   "name": "python",
   "nbconvert_exporter": "python",
   "pygments_lexer": "ipython3",
   "version": "3.8.6-final"
  },
  "orig_nbformat": 2,
  "kernelspec": {
   "name": "python3",
   "display_name": "Python 3.8.6 64-bit",
   "metadata": {
    "interpreter": {
     "hash": "6dfc46ac975ee604bd94d691f908bdbfcb093dd584120a012bab7a2b2e29ee35"
    }
   }
  }
 },
 "nbformat": 4,
 "nbformat_minor": 2,
 "cells": [
  {
   "cell_type": "code",
   "execution_count": 1,
   "metadata": {},
   "outputs": [],
   "source": [
    "import pandas as pd\n",
    "import numpy as np"
   ]
  },
  {
   "cell_type": "code",
   "execution_count": 2,
   "metadata": {},
   "outputs": [],
   "source": [
    "dir_dados = '../2_dados/'\n",
    "arq_entrada = dir_dados + 'database.csv'\n",
    "arq_sumario = dir_dados + 'data_sumario.parquet'\n",
    "arq_serie = dir_dados + '/data_series/data_{}.npy'"
   ]
  },
  {
   "source": [
    "#### Cria um arquivo \"Sumário\" com as ultimas 3 colunas"
   ],
   "cell_type": "markdown",
   "metadata": {}
  },
  {
   "cell_type": "code",
   "execution_count": 3,
   "metadata": {},
   "outputs": [],
   "source": [
    "df = pd.read_csv(arq_entrada, usecols=['signal_id', 'phase', 'target'])"
   ]
  },
  {
   "cell_type": "code",
   "execution_count": 4,
   "metadata": {},
   "outputs": [
    {
     "output_type": "stream",
     "name": "stdout",
     "text": [
      "Total de Linhas: 501\n"
     ]
    }
   ],
   "source": [
    "total_linhas = df.shape[0]\n",
    "print('Total de Linhas:', total_linhas)"
   ]
  },
  {
   "cell_type": "code",
   "execution_count": 5,
   "metadata": {},
   "outputs": [],
   "source": [
    "# Coluna para indicar arquivo em que está a linha do dataset\n",
    "df['arquivo'] = [(i // 3) + 1 for i in range(total_linhas)]"
   ]
  },
  {
   "cell_type": "code",
   "execution_count": 6,
   "metadata": {},
   "outputs": [],
   "source": [
    "df.to_parquet(arq_sumario, index=False)"
   ]
  },
  {
   "source": [
    "#### Separa o dataset em arquivos, em que cada possui 3 linhas (fases)"
   ],
   "cell_type": "markdown",
   "metadata": {}
  },
  {
   "cell_type": "code",
   "execution_count": 7,
   "metadata": {
    "tags": []
   },
   "outputs": [
    {
     "output_type": "stream",
     "name": "stdout",
     "text": [
      "Qtd de colunas: 800000\n",
      "Separando arquivos...\n",
      "Arquivos gerados com sucesso!\n"
     ]
    }
   ],
   "source": [
    "database = open(arq_entrada, 'r')\n",
    "database.readline()     # Lê cabeçalho\n",
    "\n",
    "# Inicia leitura do arquivo gravando a cada três linhas\n",
    "linha = database.readline()\n",
    "qtd_colunas = len(linha.split(',')[:-3])\n",
    "print('Qtd de colunas:', qtd_colunas)\n",
    "\n",
    "print('Separando arquivos...')\n",
    "i_linha = 1\n",
    "serie = []\n",
    "while linha:\n",
    "    coluna = linha.split(',')[:-3]\n",
    "    serie.append(coluna)\n",
    "    if i_linha % 3 == 0:\n",
    "        np_serie = np.array(serie)\n",
    "        serie = []\n",
    "        np.save(arq_serie.format(i_linha // 3), np_serie)\n",
    "    \n",
    "    linha = database.readline()\n",
    "    i_linha += 1\n",
    "\n",
    "database.close()\n",
    "print('Arquivos gerados com sucesso!')"
   ]
  },
  {
   "cell_type": "code",
   "execution_count": null,
   "metadata": {},
   "outputs": [],
   "source": []
  }
 ]
}